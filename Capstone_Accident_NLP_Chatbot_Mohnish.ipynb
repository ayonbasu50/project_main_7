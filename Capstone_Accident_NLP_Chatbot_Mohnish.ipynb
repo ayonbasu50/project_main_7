{
 "cells": [
  {
   "cell_type": "code",
   "execution_count": 1,
   "metadata": {
    "id": "vmHD8iK93olF"
   },
   "outputs": [],
   "source": [
    "import numpy as np\n",
    "import pandas as pd\n",
    "import seaborn as sns\n",
    "from matplotlib import pyplot as plt\n",
    "from sklearn.metrics import accuracy_score, precision_score, recall_score, f1_score, matthews_corrcoef\n",
    "import warnings\n",
    "warnings.filterwarnings('ignore')"
   ]
  },
  {
   "cell_type": "code",
   "execution_count": 4,
   "metadata": {
    "colab": {
     "base_uri": "https://localhost:8080/"
    },
    "id": "lC1MKlqL4xwO",
    "outputId": "0981832d-e980-4dba-ef11-54db668d1087"
   },
   "outputs": [],
   "source": [
    "#!ls"
   ]
  },
  {
   "cell_type": "code",
   "execution_count": 5,
   "metadata": {
    "id": "QIA-9xiY5D1z"
   },
   "outputs": [],
   "source": [
    "df=pd.read_csv('IHMStefanini_industrial_safety_and_health_database_with_accidents_description.csv')"
   ]
  },
  {
   "cell_type": "code",
   "execution_count": 6,
   "metadata": {
    "colab": {
     "base_uri": "https://localhost:8080/"
    },
    "id": "PHuwLMuv5OF6",
    "outputId": "234fb0f9-a1ce-4ca4-b27a-193c0b6900a3"
   },
   "outputs": [
    {
     "name": "stdout",
     "output_type": "stream",
     "text": [
      "<class 'pandas.core.frame.DataFrame'>\n",
      "RangeIndex: 425 entries, 0 to 424\n",
      "Data columns (total 11 columns):\n",
      "Unnamed: 0                  425 non-null int64\n",
      "Data                        425 non-null object\n",
      "Countries                   425 non-null object\n",
      "Local                       425 non-null object\n",
      "Industry Sector             425 non-null object\n",
      "Accident Level              425 non-null object\n",
      "Potential Accident Level    425 non-null object\n",
      "Genre                       425 non-null object\n",
      "Employee or Third Party     425 non-null object\n",
      "Critical Risk               425 non-null object\n",
      "Description                 425 non-null object\n",
      "dtypes: int64(1), object(10)\n",
      "memory usage: 36.6+ KB\n"
     ]
    }
   ],
   "source": [
    "df.info()"
   ]
  },
  {
   "cell_type": "code",
   "execution_count": 7,
   "metadata": {
    "colab": {
     "base_uri": "https://localhost:8080/",
     "height": 335
    },
    "id": "W5phfzN85Ps3",
    "outputId": "0948b187-5ad5-44ed-85c6-46686a750ab2"
   },
   "outputs": [
    {
     "data": {
      "text/html": [
       "<div>\n",
       "<style scoped>\n",
       "    .dataframe tbody tr th:only-of-type {\n",
       "        vertical-align: middle;\n",
       "    }\n",
       "\n",
       "    .dataframe tbody tr th {\n",
       "        vertical-align: top;\n",
       "    }\n",
       "\n",
       "    .dataframe thead th {\n",
       "        text-align: right;\n",
       "    }\n",
       "</style>\n",
       "<table border=\"1\" class=\"dataframe\">\n",
       "  <thead>\n",
       "    <tr style=\"text-align: right;\">\n",
       "      <th></th>\n",
       "      <th>Unnamed: 0</th>\n",
       "      <th>Data</th>\n",
       "      <th>Countries</th>\n",
       "      <th>Local</th>\n",
       "      <th>Industry Sector</th>\n",
       "      <th>Accident Level</th>\n",
       "      <th>Potential Accident Level</th>\n",
       "      <th>Genre</th>\n",
       "      <th>Employee or Third Party</th>\n",
       "      <th>Critical Risk</th>\n",
       "      <th>Description</th>\n",
       "    </tr>\n",
       "  </thead>\n",
       "  <tbody>\n",
       "    <tr>\n",
       "      <td>0</td>\n",
       "      <td>0</td>\n",
       "      <td>2016-01-01 00:00:00</td>\n",
       "      <td>Country_01</td>\n",
       "      <td>Local_01</td>\n",
       "      <td>Mining</td>\n",
       "      <td>I</td>\n",
       "      <td>IV</td>\n",
       "      <td>Male</td>\n",
       "      <td>Third Party</td>\n",
       "      <td>Pressed</td>\n",
       "      <td>While removing the drill rod of the Jumbo 08 f...</td>\n",
       "    </tr>\n",
       "    <tr>\n",
       "      <td>1</td>\n",
       "      <td>1</td>\n",
       "      <td>2016-01-02 00:00:00</td>\n",
       "      <td>Country_02</td>\n",
       "      <td>Local_02</td>\n",
       "      <td>Mining</td>\n",
       "      <td>I</td>\n",
       "      <td>IV</td>\n",
       "      <td>Male</td>\n",
       "      <td>Employee</td>\n",
       "      <td>Pressurized Systems</td>\n",
       "      <td>During the activation of a sodium sulphide pum...</td>\n",
       "    </tr>\n",
       "    <tr>\n",
       "      <td>2</td>\n",
       "      <td>2</td>\n",
       "      <td>2016-01-06 00:00:00</td>\n",
       "      <td>Country_01</td>\n",
       "      <td>Local_03</td>\n",
       "      <td>Mining</td>\n",
       "      <td>I</td>\n",
       "      <td>III</td>\n",
       "      <td>Male</td>\n",
       "      <td>Third Party (Remote)</td>\n",
       "      <td>Manual Tools</td>\n",
       "      <td>In the sub-station MILPO located at level +170...</td>\n",
       "    </tr>\n",
       "    <tr>\n",
       "      <td>3</td>\n",
       "      <td>3</td>\n",
       "      <td>2016-01-08 00:00:00</td>\n",
       "      <td>Country_01</td>\n",
       "      <td>Local_04</td>\n",
       "      <td>Mining</td>\n",
       "      <td>I</td>\n",
       "      <td>I</td>\n",
       "      <td>Male</td>\n",
       "      <td>Third Party</td>\n",
       "      <td>Others</td>\n",
       "      <td>Being 9:45 am. approximately in the Nv. 1880 C...</td>\n",
       "    </tr>\n",
       "    <tr>\n",
       "      <td>4</td>\n",
       "      <td>4</td>\n",
       "      <td>2016-01-10 00:00:00</td>\n",
       "      <td>Country_01</td>\n",
       "      <td>Local_04</td>\n",
       "      <td>Mining</td>\n",
       "      <td>IV</td>\n",
       "      <td>IV</td>\n",
       "      <td>Male</td>\n",
       "      <td>Third Party</td>\n",
       "      <td>Others</td>\n",
       "      <td>Approximately at 11:45 a.m. in circumstances t...</td>\n",
       "    </tr>\n",
       "  </tbody>\n",
       "</table>\n",
       "</div>"
      ],
      "text/plain": [
       "   Unnamed: 0                 Data   Countries     Local Industry Sector  \\\n",
       "0           0  2016-01-01 00:00:00  Country_01  Local_01          Mining   \n",
       "1           1  2016-01-02 00:00:00  Country_02  Local_02          Mining   \n",
       "2           2  2016-01-06 00:00:00  Country_01  Local_03          Mining   \n",
       "3           3  2016-01-08 00:00:00  Country_01  Local_04          Mining   \n",
       "4           4  2016-01-10 00:00:00  Country_01  Local_04          Mining   \n",
       "\n",
       "  Accident Level Potential Accident Level Genre Employee or Third Party  \\\n",
       "0              I                       IV  Male             Third Party   \n",
       "1              I                       IV  Male                Employee   \n",
       "2              I                      III  Male    Third Party (Remote)   \n",
       "3              I                        I  Male             Third Party   \n",
       "4             IV                       IV  Male             Third Party   \n",
       "\n",
       "         Critical Risk                                        Description  \n",
       "0              Pressed  While removing the drill rod of the Jumbo 08 f...  \n",
       "1  Pressurized Systems  During the activation of a sodium sulphide pum...  \n",
       "2         Manual Tools  In the sub-station MILPO located at level +170...  \n",
       "3               Others  Being 9:45 am. approximately in the Nv. 1880 C...  \n",
       "4               Others  Approximately at 11:45 a.m. in circumstances t...  "
      ]
     },
     "execution_count": 7,
     "metadata": {},
     "output_type": "execute_result"
    }
   ],
   "source": [
    "df.head (5)"
   ]
  },
  {
   "cell_type": "code",
   "execution_count": 8,
   "metadata": {
    "id": "Coy7fH5n6Mz7"
   },
   "outputs": [],
   "source": [
    "dupes = df.duplicated()"
   ]
  },
  {
   "cell_type": "code",
   "execution_count": 9,
   "metadata": {
    "colab": {
     "base_uri": "https://localhost:8080/"
    },
    "id": "izWRqufo7j5W",
    "outputId": "a70b5332-15ad-40b2-be2a-1cc5b69f7c86"
   },
   "outputs": [
    {
     "data": {
      "text/plain": [
       "0"
      ]
     },
     "execution_count": 9,
     "metadata": {},
     "output_type": "execute_result"
    }
   ],
   "source": [
    "sum(dupes)"
   ]
  },
  {
   "cell_type": "code",
   "execution_count": 10,
   "metadata": {
    "colab": {
     "base_uri": "https://localhost:8080/"
    },
    "id": "WTu4RuAw7x2q",
    "outputId": "900b9747-90de-4afe-dd24-9e85a419d917"
   },
   "outputs": [
    {
     "data": {
      "text/plain": [
       "False"
      ]
     },
     "execution_count": 10,
     "metadata": {},
     "output_type": "execute_result"
    }
   ],
   "source": [
    "df.isnull().values.any()   # Any of the values in the dataframe is a missing value"
   ]
  },
  {
   "cell_type": "code",
   "execution_count": 11,
   "metadata": {
    "colab": {
     "base_uri": "https://localhost:8080/"
    },
    "id": "qHe2KsLr84e7",
    "outputId": "a00349d0-3c00-4e3c-c645-e14323e9edef"
   },
   "outputs": [
    {
     "name": "stdout",
     "output_type": "stream",
     "text": [
      "Countries\n",
      "['Country_01' 'Country_02' 'Country_03']\n",
      "-------------\n",
      "Local\n",
      "['Local_01' 'Local_02' 'Local_03' 'Local_04' 'Local_05' 'Local_06'\n",
      " 'Local_07' 'Local_08' 'Local_10' 'Local_09' 'Local_11' 'Local_12']\n",
      "-------------\n",
      "Industry Sector\n",
      "['Mining' 'Metals' 'Others']\n",
      "-------------\n",
      "Accident Level\n",
      "['I' 'IV' 'III' 'II' 'V']\n",
      "-------------\n",
      "Potential Accident Level\n",
      "['IV' 'III' 'I' 'II' 'V' 'VI']\n",
      "-------------\n",
      "Genre\n",
      "['Male' 'Female']\n",
      "-------------\n",
      "Employee or Third Party\n",
      "['Third Party' 'Employee' 'Third Party (Remote)']\n",
      "-------------\n",
      "Critical Risk\n",
      "['Pressed' 'Pressurized Systems' 'Manual Tools' 'Others'\n",
      " 'Fall prevention (same level)' 'Chemical substances' 'Liquid Metal'\n",
      " 'Electrical installation' 'Confined space'\n",
      " 'Pressurized Systems / Chemical Substances'\n",
      " 'Blocking and isolation of energies' 'Suspended Loads' 'Poll' 'Cut'\n",
      " 'Fall' 'Bees' 'Fall prevention' '\\nNot applicable' 'Traffic' 'Projection'\n",
      " 'Venomous Animals' 'Plates' 'Projection/Burning' 'remains of choco'\n",
      " 'Vehicles and Mobile Equipment' 'Projection/Choco' 'Machine Protection'\n",
      " 'Power lock' 'Burn' 'Projection/Manual Tools'\n",
      " 'Individual protection equipment' 'Electrical Shock'\n",
      " 'Projection of fragments']\n",
      "-------------\n"
     ]
    }
   ],
   "source": [
    "for column in df.columns[2:10]:\n",
    "    print(column)\n",
    "    print(df[column].unique())\n",
    "    print('-------------')"
   ]
  },
  {
   "cell_type": "code",
   "execution_count": 12,
   "metadata": {
    "colab": {
     "base_uri": "https://localhost:8080/",
     "height": 159
    },
    "id": "zDpx3yuZPC11",
    "outputId": "89021560-4e20-4197-c29c-5fa6c13ad00f"
   },
   "outputs": [
    {
     "data": {
      "text/html": [
       "<div>\n",
       "<style scoped>\n",
       "    .dataframe tbody tr th:only-of-type {\n",
       "        vertical-align: middle;\n",
       "    }\n",
       "\n",
       "    .dataframe tbody tr th {\n",
       "        vertical-align: top;\n",
       "    }\n",
       "\n",
       "    .dataframe thead th {\n",
       "        text-align: right;\n",
       "    }\n",
       "</style>\n",
       "<table border=\"1\" class=\"dataframe\">\n",
       "  <thead>\n",
       "    <tr style=\"text-align: right;\">\n",
       "      <th></th>\n",
       "      <th>Date</th>\n",
       "      <th>Country</th>\n",
       "      <th>Local</th>\n",
       "      <th>Industry Sector</th>\n",
       "      <th>Accident Level</th>\n",
       "      <th>Potential Accident Level</th>\n",
       "      <th>Gender</th>\n",
       "      <th>Employee type</th>\n",
       "      <th>Critical Risk</th>\n",
       "      <th>Description</th>\n",
       "    </tr>\n",
       "  </thead>\n",
       "  <tbody>\n",
       "    <tr>\n",
       "      <td>0</td>\n",
       "      <td>2016-01-01 00:00:00</td>\n",
       "      <td>Country_01</td>\n",
       "      <td>Local_01</td>\n",
       "      <td>Mining</td>\n",
       "      <td>I</td>\n",
       "      <td>IV</td>\n",
       "      <td>Male</td>\n",
       "      <td>Third Party</td>\n",
       "      <td>Pressed</td>\n",
       "      <td>While removing the drill rod of the Jumbo 08 f...</td>\n",
       "    </tr>\n",
       "    <tr>\n",
       "      <td>1</td>\n",
       "      <td>2016-01-02 00:00:00</td>\n",
       "      <td>Country_02</td>\n",
       "      <td>Local_02</td>\n",
       "      <td>Mining</td>\n",
       "      <td>I</td>\n",
       "      <td>IV</td>\n",
       "      <td>Male</td>\n",
       "      <td>Employee</td>\n",
       "      <td>Pressurized Systems</td>\n",
       "      <td>During the activation of a sodium sulphide pum...</td>\n",
       "    </tr>\n",
       "  </tbody>\n",
       "</table>\n",
       "</div>"
      ],
      "text/plain": [
       "                  Date     Country     Local Industry Sector Accident Level  \\\n",
       "0  2016-01-01 00:00:00  Country_01  Local_01          Mining              I   \n",
       "1  2016-01-02 00:00:00  Country_02  Local_02          Mining              I   \n",
       "\n",
       "  Potential Accident Level Gender Employee type        Critical Risk  \\\n",
       "0                       IV   Male   Third Party              Pressed   \n",
       "1                       IV   Male      Employee  Pressurized Systems   \n",
       "\n",
       "                                         Description  \n",
       "0  While removing the drill rod of the Jumbo 08 f...  \n",
       "1  During the activation of a sodium sulphide pum...  "
      ]
     },
     "execution_count": 12,
     "metadata": {},
     "output_type": "execute_result"
    }
   ],
   "source": [
    "df.drop(\"Unnamed: 0\", axis=1, inplace=True)\n",
    "df.rename(columns={'Data':'Date', 'Countries':'Country', 'Genre':'Gender', 'Employee or Third Party':'Employee type'}, inplace=True)\n",
    "df.head(2)"
   ]
  },
  {
   "cell_type": "code",
   "execution_count": 13,
   "metadata": {
    "colab": {
     "base_uri": "https://localhost:8080/",
     "height": 298
    },
    "id": "aBSYbkjZPKwC",
    "outputId": "82807721-be9d-4fde-81fe-d43b99f9687f"
   },
   "outputs": [
    {
     "data": {
      "text/html": [
       "<div>\n",
       "<style scoped>\n",
       "    .dataframe tbody tr th:only-of-type {\n",
       "        vertical-align: middle;\n",
       "    }\n",
       "\n",
       "    .dataframe tbody tr th {\n",
       "        vertical-align: top;\n",
       "    }\n",
       "\n",
       "    .dataframe thead th {\n",
       "        text-align: right;\n",
       "    }\n",
       "</style>\n",
       "<table border=\"1\" class=\"dataframe\">\n",
       "  <thead>\n",
       "    <tr style=\"text-align: right;\">\n",
       "      <th></th>\n",
       "      <th>Date</th>\n",
       "      <th>Country</th>\n",
       "      <th>Local</th>\n",
       "      <th>Industry Sector</th>\n",
       "      <th>Accident Level</th>\n",
       "      <th>Potential Accident Level</th>\n",
       "      <th>Gender</th>\n",
       "      <th>Employee type</th>\n",
       "      <th>Critical Risk</th>\n",
       "      <th>Description</th>\n",
       "      <th>Year</th>\n",
       "      <th>Month</th>\n",
       "      <th>Day</th>\n",
       "      <th>WeekofYear</th>\n",
       "      <th>Weekday</th>\n",
       "      <th>MonthName</th>\n",
       "    </tr>\n",
       "  </thead>\n",
       "  <tbody>\n",
       "    <tr>\n",
       "      <td>0</td>\n",
       "      <td>2016-01-01</td>\n",
       "      <td>Country_01</td>\n",
       "      <td>Local_01</td>\n",
       "      <td>Mining</td>\n",
       "      <td>I</td>\n",
       "      <td>IV</td>\n",
       "      <td>Male</td>\n",
       "      <td>Third Party</td>\n",
       "      <td>Pressed</td>\n",
       "      <td>While removing the drill rod of the Jumbo 08 f...</td>\n",
       "      <td>2016</td>\n",
       "      <td>1</td>\n",
       "      <td>1</td>\n",
       "      <td>53</td>\n",
       "      <td>Friday</td>\n",
       "      <td>January</td>\n",
       "    </tr>\n",
       "    <tr>\n",
       "      <td>1</td>\n",
       "      <td>2016-01-02</td>\n",
       "      <td>Country_02</td>\n",
       "      <td>Local_02</td>\n",
       "      <td>Mining</td>\n",
       "      <td>I</td>\n",
       "      <td>IV</td>\n",
       "      <td>Male</td>\n",
       "      <td>Employee</td>\n",
       "      <td>Pressurized Systems</td>\n",
       "      <td>During the activation of a sodium sulphide pum...</td>\n",
       "      <td>2016</td>\n",
       "      <td>1</td>\n",
       "      <td>2</td>\n",
       "      <td>53</td>\n",
       "      <td>Saturday</td>\n",
       "      <td>January</td>\n",
       "    </tr>\n",
       "  </tbody>\n",
       "</table>\n",
       "</div>"
      ],
      "text/plain": [
       "        Date     Country     Local Industry Sector Accident Level  \\\n",
       "0 2016-01-01  Country_01  Local_01          Mining              I   \n",
       "1 2016-01-02  Country_02  Local_02          Mining              I   \n",
       "\n",
       "  Potential Accident Level Gender Employee type        Critical Risk  \\\n",
       "0                       IV   Male   Third Party              Pressed   \n",
       "1                       IV   Male      Employee  Pressurized Systems   \n",
       "\n",
       "                                         Description  Year  Month  Day  \\\n",
       "0  While removing the drill rod of the Jumbo 08 f...  2016      1    1   \n",
       "1  During the activation of a sodium sulphide pum...  2016      1    2   \n",
       "\n",
       "   WeekofYear   Weekday MonthName  \n",
       "0          53    Friday   January  \n",
       "1          53  Saturday   January  "
      ]
     },
     "execution_count": 13,
     "metadata": {},
     "output_type": "execute_result"
    }
   ],
   "source": [
    "df['Date'] = pd.to_datetime(df['Date'])\n",
    "df['Year'] = df['Date'].apply(lambda x : x.year)\n",
    "df['Month'] = df['Date'].apply(lambda x : x.month)\n",
    "df['Day'] = df['Date'].apply(lambda x : x.day)\n",
    "df['WeekofYear'] = df['Date'].apply(lambda x : x.weekofyear)\n",
    "df['Weekday'] = df['Date'].apply(lambda x : x.day_name())\n",
    "df['MonthName'] = df['Date'].apply(lambda x : x.month_name())\n",
    "df.head(2)"
   ]
  },
  {
   "cell_type": "code",
   "execution_count": 14,
   "metadata": {
    "id": "vh4EgiWnP2Cc"
   },
   "outputs": [],
   "source": [
    "def seasonofyear(x):\n",
    "    if x in [9, 10, 11]:\n",
    "        season = 'Spring'\n",
    "    elif x in [12, 1, 2]:\n",
    "        season = 'Summer'\n",
    "    elif x in [3, 4, 5]:\n",
    "        season = 'Autumn'\n",
    "    elif x in [6, 7, 8]:\n",
    "        season = 'Winter'\n",
    "    return season\n",
    "\n",
    "df['Season'] = df['Month'].apply(seasonofyear)"
   ]
  },
  {
   "cell_type": "code",
   "execution_count": 15,
   "metadata": {
    "colab": {
     "base_uri": "https://localhost:8080/"
    },
    "id": "rzzScbpxQANJ",
    "outputId": "33aa64bd-e68a-47ea-d41b-1f42c2371830"
   },
   "outputs": [
    {
     "name": "stdout",
     "output_type": "stream",
     "text": [
      "<class 'pandas.core.frame.DataFrame'>\n",
      "RangeIndex: 425 entries, 0 to 424\n",
      "Data columns (total 17 columns):\n",
      "Date                        425 non-null datetime64[ns]\n",
      "Country                     425 non-null object\n",
      "Local                       425 non-null object\n",
      "Industry Sector             425 non-null object\n",
      "Accident Level              425 non-null object\n",
      "Potential Accident Level    425 non-null object\n",
      "Gender                      425 non-null object\n",
      "Employee type               425 non-null object\n",
      "Critical Risk               425 non-null object\n",
      "Description                 425 non-null object\n",
      "Year                        425 non-null int64\n",
      "Month                       425 non-null int64\n",
      "Day                         425 non-null int64\n",
      "WeekofYear                  425 non-null int64\n",
      "Weekday                     425 non-null object\n",
      "MonthName                   425 non-null object\n",
      "Season                      425 non-null object\n",
      "dtypes: datetime64[ns](1), int64(4), object(12)\n",
      "memory usage: 56.6+ KB\n"
     ]
    }
   ],
   "source": [
    "df.info()"
   ]
  },
  {
   "cell_type": "code",
   "execution_count": 16,
   "metadata": {
    "id": "48ivAe1r8tWN"
   },
   "outputs": [],
   "source": [
    "df_col=list(['Country', 'Local', 'Industry Sector', 'Accident Level', 'Potential Accident Level', 'Gender', 'Employee type', 'Critical Risk', 'Year', 'Month', 'Day', 'WeekofYear',  'Weekday', 'MonthName', 'Season'])\n"
   ]
  },
  {
   "cell_type": "code",
   "execution_count": 17,
   "metadata": {
    "colab": {
     "base_uri": "https://localhost:8080/"
    },
    "id": "a3XQLitAHvCO",
    "outputId": "3919caee-2072-4f1d-ef65-65233d73a827"
   },
   "outputs": [
    {
     "data": {
      "text/plain": [
       "['Country',\n",
       " 'Local',\n",
       " 'Industry Sector',\n",
       " 'Accident Level',\n",
       " 'Potential Accident Level',\n",
       " 'Gender',\n",
       " 'Employee type',\n",
       " 'Critical Risk',\n",
       " 'Year',\n",
       " 'Month',\n",
       " 'Day',\n",
       " 'WeekofYear',\n",
       " 'Weekday',\n",
       " 'MonthName',\n",
       " 'Season']"
      ]
     },
     "execution_count": 17,
     "metadata": {},
     "output_type": "execute_result"
    }
   ],
   "source": [
    "df_col"
   ]
  },
  {
   "cell_type": "code",
   "execution_count": 18,
   "metadata": {
    "id": "DHudMrk679CK"
   },
   "outputs": [],
   "source": [
    "from sklearn.preprocessing import LabelEncoder   # import label encoder\n",
    "\n",
    "labelencoder = LabelEncoder()  "
   ]
  },
  {
   "cell_type": "code",
   "execution_count": 19,
   "metadata": {
    "id": "pn4QPIZaHgbU"
   },
   "outputs": [],
   "source": [
    "for i in range(len(df_col)):\n",
    "  df[df_col[i]] = LabelEncoder().fit_transform(df[df_col[i]])"
   ]
  },
  {
   "cell_type": "code",
   "execution_count": 20,
   "metadata": {
    "colab": {
     "base_uri": "https://localhost:8080/",
     "height": 542
    },
    "id": "aLbDjVYLIDdW",
    "outputId": "5a5cb89c-1b3e-4826-8669-95dc53899af4"
   },
   "outputs": [
    {
     "data": {
      "text/html": [
       "<div>\n",
       "<style scoped>\n",
       "    .dataframe tbody tr th:only-of-type {\n",
       "        vertical-align: middle;\n",
       "    }\n",
       "\n",
       "    .dataframe tbody tr th {\n",
       "        vertical-align: top;\n",
       "    }\n",
       "\n",
       "    .dataframe thead th {\n",
       "        text-align: right;\n",
       "    }\n",
       "</style>\n",
       "<table border=\"1\" class=\"dataframe\">\n",
       "  <thead>\n",
       "    <tr style=\"text-align: right;\">\n",
       "      <th></th>\n",
       "      <th>Date</th>\n",
       "      <th>Country</th>\n",
       "      <th>Local</th>\n",
       "      <th>Industry Sector</th>\n",
       "      <th>Accident Level</th>\n",
       "      <th>Potential Accident Level</th>\n",
       "      <th>Gender</th>\n",
       "      <th>Employee type</th>\n",
       "      <th>Critical Risk</th>\n",
       "      <th>Description</th>\n",
       "      <th>Year</th>\n",
       "      <th>Month</th>\n",
       "      <th>Day</th>\n",
       "      <th>WeekofYear</th>\n",
       "      <th>Weekday</th>\n",
       "      <th>MonthName</th>\n",
       "      <th>Season</th>\n",
       "    </tr>\n",
       "  </thead>\n",
       "  <tbody>\n",
       "    <tr>\n",
       "      <td>420</td>\n",
       "      <td>2017-07-04</td>\n",
       "      <td>0</td>\n",
       "      <td>3</td>\n",
       "      <td>1</td>\n",
       "      <td>0</td>\n",
       "      <td>2</td>\n",
       "      <td>1</td>\n",
       "      <td>1</td>\n",
       "      <td>16</td>\n",
       "      <td>Being approximately 5:00 a.m. approximately, w...</td>\n",
       "      <td>1</td>\n",
       "      <td>6</td>\n",
       "      <td>3</td>\n",
       "      <td>26</td>\n",
       "      <td>5</td>\n",
       "      <td>5</td>\n",
       "      <td>3</td>\n",
       "    </tr>\n",
       "    <tr>\n",
       "      <td>421</td>\n",
       "      <td>2017-07-04</td>\n",
       "      <td>0</td>\n",
       "      <td>2</td>\n",
       "      <td>1</td>\n",
       "      <td>0</td>\n",
       "      <td>1</td>\n",
       "      <td>0</td>\n",
       "      <td>0</td>\n",
       "      <td>16</td>\n",
       "      <td>The collaborator moved from the infrastructure...</td>\n",
       "      <td>1</td>\n",
       "      <td>6</td>\n",
       "      <td>3</td>\n",
       "      <td>26</td>\n",
       "      <td>5</td>\n",
       "      <td>5</td>\n",
       "      <td>3</td>\n",
       "    </tr>\n",
       "    <tr>\n",
       "      <td>422</td>\n",
       "      <td>2017-07-05</td>\n",
       "      <td>1</td>\n",
       "      <td>8</td>\n",
       "      <td>0</td>\n",
       "      <td>0</td>\n",
       "      <td>1</td>\n",
       "      <td>1</td>\n",
       "      <td>0</td>\n",
       "      <td>31</td>\n",
       "      <td>During the environmental monitoring activity i...</td>\n",
       "      <td>1</td>\n",
       "      <td>6</td>\n",
       "      <td>4</td>\n",
       "      <td>26</td>\n",
       "      <td>6</td>\n",
       "      <td>5</td>\n",
       "      <td>3</td>\n",
       "    </tr>\n",
       "    <tr>\n",
       "      <td>423</td>\n",
       "      <td>2017-07-06</td>\n",
       "      <td>1</td>\n",
       "      <td>4</td>\n",
       "      <td>0</td>\n",
       "      <td>0</td>\n",
       "      <td>1</td>\n",
       "      <td>1</td>\n",
       "      <td>0</td>\n",
       "      <td>6</td>\n",
       "      <td>The Employee performed the activity of strippi...</td>\n",
       "      <td>1</td>\n",
       "      <td>6</td>\n",
       "      <td>5</td>\n",
       "      <td>26</td>\n",
       "      <td>4</td>\n",
       "      <td>5</td>\n",
       "      <td>3</td>\n",
       "    </tr>\n",
       "    <tr>\n",
       "      <td>424</td>\n",
       "      <td>2017-07-09</td>\n",
       "      <td>0</td>\n",
       "      <td>3</td>\n",
       "      <td>1</td>\n",
       "      <td>0</td>\n",
       "      <td>1</td>\n",
       "      <td>0</td>\n",
       "      <td>1</td>\n",
       "      <td>11</td>\n",
       "      <td>At 10:00 a.m., when the assistant cleaned the ...</td>\n",
       "      <td>1</td>\n",
       "      <td>6</td>\n",
       "      <td>8</td>\n",
       "      <td>26</td>\n",
       "      <td>3</td>\n",
       "      <td>5</td>\n",
       "      <td>3</td>\n",
       "    </tr>\n",
       "  </tbody>\n",
       "</table>\n",
       "</div>"
      ],
      "text/plain": [
       "          Date  Country  Local  Industry Sector  Accident Level  \\\n",
       "420 2017-07-04        0      3                1               0   \n",
       "421 2017-07-04        0      2                1               0   \n",
       "422 2017-07-05        1      8                0               0   \n",
       "423 2017-07-06        1      4                0               0   \n",
       "424 2017-07-09        0      3                1               0   \n",
       "\n",
       "     Potential Accident Level  Gender  Employee type  Critical Risk  \\\n",
       "420                         2       1              1             16   \n",
       "421                         1       0              0             16   \n",
       "422                         1       1              0             31   \n",
       "423                         1       1              0              6   \n",
       "424                         1       0              1             11   \n",
       "\n",
       "                                           Description  Year  Month  Day  \\\n",
       "420  Being approximately 5:00 a.m. approximately, w...     1      6    3   \n",
       "421  The collaborator moved from the infrastructure...     1      6    3   \n",
       "422  During the environmental monitoring activity i...     1      6    4   \n",
       "423  The Employee performed the activity of strippi...     1      6    5   \n",
       "424  At 10:00 a.m., when the assistant cleaned the ...     1      6    8   \n",
       "\n",
       "     WeekofYear  Weekday  MonthName  Season  \n",
       "420          26        5          5       3  \n",
       "421          26        5          5       3  \n",
       "422          26        6          5       3  \n",
       "423          26        4          5       3  \n",
       "424          26        3          5       3  "
      ]
     },
     "execution_count": 20,
     "metadata": {},
     "output_type": "execute_result"
    }
   ],
   "source": [
    "df.tail()"
   ]
  },
  {
   "cell_type": "code",
   "execution_count": 21,
   "metadata": {
    "id": "U6gLzu3wI2BR"
   },
   "outputs": [],
   "source": [
    "distplot_df = df.drop(labels=['Date','Description'], axis=1)"
   ]
  },
  {
   "cell_type": "code",
   "execution_count": 22,
   "metadata": {
    "colab": {
     "base_uri": "https://localhost:8080/",
     "height": 464
    },
    "id": "rm3x4WxBeLOe",
    "outputId": "bf85b8d3-e685-4819-c0c0-288ac0e00341"
   },
   "outputs": [
    {
     "data": {
      "text/html": [
       "<div>\n",
       "<style scoped>\n",
       "    .dataframe tbody tr th:only-of-type {\n",
       "        vertical-align: middle;\n",
       "    }\n",
       "\n",
       "    .dataframe tbody tr th {\n",
       "        vertical-align: top;\n",
       "    }\n",
       "\n",
       "    .dataframe thead th {\n",
       "        text-align: right;\n",
       "    }\n",
       "</style>\n",
       "<table border=\"1\" class=\"dataframe\">\n",
       "  <thead>\n",
       "    <tr style=\"text-align: right;\">\n",
       "      <th></th>\n",
       "      <th>Country</th>\n",
       "      <th>Local</th>\n",
       "      <th>Industry Sector</th>\n",
       "      <th>Accident Level</th>\n",
       "      <th>Potential Accident Level</th>\n",
       "      <th>Gender</th>\n",
       "      <th>Employee type</th>\n",
       "      <th>Critical Risk</th>\n",
       "      <th>Year</th>\n",
       "      <th>Month</th>\n",
       "      <th>Day</th>\n",
       "      <th>WeekofYear</th>\n",
       "      <th>Weekday</th>\n",
       "      <th>MonthName</th>\n",
       "      <th>Season</th>\n",
       "    </tr>\n",
       "  </thead>\n",
       "  <tbody>\n",
       "    <tr>\n",
       "      <td>0</td>\n",
       "      <td>0</td>\n",
       "      <td>0</td>\n",
       "      <td>1</td>\n",
       "      <td>0</td>\n",
       "      <td>3</td>\n",
       "      <td>1</td>\n",
       "      <td>1</td>\n",
       "      <td>20</td>\n",
       "      <td>0</td>\n",
       "      <td>0</td>\n",
       "      <td>0</td>\n",
       "      <td>52</td>\n",
       "      <td>0</td>\n",
       "      <td>4</td>\n",
       "      <td>2</td>\n",
       "    </tr>\n",
       "    <tr>\n",
       "      <td>1</td>\n",
       "      <td>1</td>\n",
       "      <td>1</td>\n",
       "      <td>1</td>\n",
       "      <td>0</td>\n",
       "      <td>3</td>\n",
       "      <td>1</td>\n",
       "      <td>0</td>\n",
       "      <td>21</td>\n",
       "      <td>0</td>\n",
       "      <td>0</td>\n",
       "      <td>1</td>\n",
       "      <td>52</td>\n",
       "      <td>2</td>\n",
       "      <td>4</td>\n",
       "      <td>2</td>\n",
       "    </tr>\n",
       "    <tr>\n",
       "      <td>2</td>\n",
       "      <td>0</td>\n",
       "      <td>2</td>\n",
       "      <td>1</td>\n",
       "      <td>0</td>\n",
       "      <td>2</td>\n",
       "      <td>1</td>\n",
       "      <td>2</td>\n",
       "      <td>15</td>\n",
       "      <td>0</td>\n",
       "      <td>0</td>\n",
       "      <td>5</td>\n",
       "      <td>0</td>\n",
       "      <td>6</td>\n",
       "      <td>4</td>\n",
       "      <td>2</td>\n",
       "    </tr>\n",
       "    <tr>\n",
       "      <td>3</td>\n",
       "      <td>0</td>\n",
       "      <td>3</td>\n",
       "      <td>1</td>\n",
       "      <td>0</td>\n",
       "      <td>0</td>\n",
       "      <td>1</td>\n",
       "      <td>1</td>\n",
       "      <td>16</td>\n",
       "      <td>0</td>\n",
       "      <td>0</td>\n",
       "      <td>7</td>\n",
       "      <td>0</td>\n",
       "      <td>0</td>\n",
       "      <td>4</td>\n",
       "      <td>2</td>\n",
       "    </tr>\n",
       "    <tr>\n",
       "      <td>4</td>\n",
       "      <td>0</td>\n",
       "      <td>3</td>\n",
       "      <td>1</td>\n",
       "      <td>3</td>\n",
       "      <td>3</td>\n",
       "      <td>1</td>\n",
       "      <td>1</td>\n",
       "      <td>16</td>\n",
       "      <td>0</td>\n",
       "      <td>0</td>\n",
       "      <td>9</td>\n",
       "      <td>0</td>\n",
       "      <td>3</td>\n",
       "      <td>4</td>\n",
       "      <td>2</td>\n",
       "    </tr>\n",
       "    <tr>\n",
       "      <td>...</td>\n",
       "      <td>...</td>\n",
       "      <td>...</td>\n",
       "      <td>...</td>\n",
       "      <td>...</td>\n",
       "      <td>...</td>\n",
       "      <td>...</td>\n",
       "      <td>...</td>\n",
       "      <td>...</td>\n",
       "      <td>...</td>\n",
       "      <td>...</td>\n",
       "      <td>...</td>\n",
       "      <td>...</td>\n",
       "      <td>...</td>\n",
       "      <td>...</td>\n",
       "      <td>...</td>\n",
       "    </tr>\n",
       "    <tr>\n",
       "      <td>420</td>\n",
       "      <td>0</td>\n",
       "      <td>3</td>\n",
       "      <td>1</td>\n",
       "      <td>0</td>\n",
       "      <td>2</td>\n",
       "      <td>1</td>\n",
       "      <td>1</td>\n",
       "      <td>16</td>\n",
       "      <td>1</td>\n",
       "      <td>6</td>\n",
       "      <td>3</td>\n",
       "      <td>26</td>\n",
       "      <td>5</td>\n",
       "      <td>5</td>\n",
       "      <td>3</td>\n",
       "    </tr>\n",
       "    <tr>\n",
       "      <td>421</td>\n",
       "      <td>0</td>\n",
       "      <td>2</td>\n",
       "      <td>1</td>\n",
       "      <td>0</td>\n",
       "      <td>1</td>\n",
       "      <td>0</td>\n",
       "      <td>0</td>\n",
       "      <td>16</td>\n",
       "      <td>1</td>\n",
       "      <td>6</td>\n",
       "      <td>3</td>\n",
       "      <td>26</td>\n",
       "      <td>5</td>\n",
       "      <td>5</td>\n",
       "      <td>3</td>\n",
       "    </tr>\n",
       "    <tr>\n",
       "      <td>422</td>\n",
       "      <td>1</td>\n",
       "      <td>8</td>\n",
       "      <td>0</td>\n",
       "      <td>0</td>\n",
       "      <td>1</td>\n",
       "      <td>1</td>\n",
       "      <td>0</td>\n",
       "      <td>31</td>\n",
       "      <td>1</td>\n",
       "      <td>6</td>\n",
       "      <td>4</td>\n",
       "      <td>26</td>\n",
       "      <td>6</td>\n",
       "      <td>5</td>\n",
       "      <td>3</td>\n",
       "    </tr>\n",
       "    <tr>\n",
       "      <td>423</td>\n",
       "      <td>1</td>\n",
       "      <td>4</td>\n",
       "      <td>0</td>\n",
       "      <td>0</td>\n",
       "      <td>1</td>\n",
       "      <td>1</td>\n",
       "      <td>0</td>\n",
       "      <td>6</td>\n",
       "      <td>1</td>\n",
       "      <td>6</td>\n",
       "      <td>5</td>\n",
       "      <td>26</td>\n",
       "      <td>4</td>\n",
       "      <td>5</td>\n",
       "      <td>3</td>\n",
       "    </tr>\n",
       "    <tr>\n",
       "      <td>424</td>\n",
       "      <td>0</td>\n",
       "      <td>3</td>\n",
       "      <td>1</td>\n",
       "      <td>0</td>\n",
       "      <td>1</td>\n",
       "      <td>0</td>\n",
       "      <td>1</td>\n",
       "      <td>11</td>\n",
       "      <td>1</td>\n",
       "      <td>6</td>\n",
       "      <td>8</td>\n",
       "      <td>26</td>\n",
       "      <td>3</td>\n",
       "      <td>5</td>\n",
       "      <td>3</td>\n",
       "    </tr>\n",
       "  </tbody>\n",
       "</table>\n",
       "<p>425 rows × 15 columns</p>\n",
       "</div>"
      ],
      "text/plain": [
       "     Country  Local  Industry Sector  Accident Level  \\\n",
       "0          0      0                1               0   \n",
       "1          1      1                1               0   \n",
       "2          0      2                1               0   \n",
       "3          0      3                1               0   \n",
       "4          0      3                1               3   \n",
       "..       ...    ...              ...             ...   \n",
       "420        0      3                1               0   \n",
       "421        0      2                1               0   \n",
       "422        1      8                0               0   \n",
       "423        1      4                0               0   \n",
       "424        0      3                1               0   \n",
       "\n",
       "     Potential Accident Level  Gender  Employee type  Critical Risk  Year  \\\n",
       "0                           3       1              1             20     0   \n",
       "1                           3       1              0             21     0   \n",
       "2                           2       1              2             15     0   \n",
       "3                           0       1              1             16     0   \n",
       "4                           3       1              1             16     0   \n",
       "..                        ...     ...            ...            ...   ...   \n",
       "420                         2       1              1             16     1   \n",
       "421                         1       0              0             16     1   \n",
       "422                         1       1              0             31     1   \n",
       "423                         1       1              0              6     1   \n",
       "424                         1       0              1             11     1   \n",
       "\n",
       "     Month  Day  WeekofYear  Weekday  MonthName  Season  \n",
       "0        0    0          52        0          4       2  \n",
       "1        0    1          52        2          4       2  \n",
       "2        0    5           0        6          4       2  \n",
       "3        0    7           0        0          4       2  \n",
       "4        0    9           0        3          4       2  \n",
       "..     ...  ...         ...      ...        ...     ...  \n",
       "420      6    3          26        5          5       3  \n",
       "421      6    3          26        5          5       3  \n",
       "422      6    4          26        6          5       3  \n",
       "423      6    5          26        4          5       3  \n",
       "424      6    8          26        3          5       3  \n",
       "\n",
       "[425 rows x 15 columns]"
      ]
     },
     "execution_count": 22,
     "metadata": {},
     "output_type": "execute_result"
    }
   ],
   "source": [
    "distplot_df"
   ]
  },
  {
   "cell_type": "code",
   "execution_count": 23,
   "metadata": {
    "colab": {
     "base_uri": "https://localhost:8080/",
     "height": 775
    },
    "id": "VWjqF19qIkhQ",
    "outputId": "a1ef38f1-3e52-4cd8-e25c-66acd28932ff"
   },
   "outputs": [
    {
     "data": {
      "image/png": "[encoded data removed]",
      "text/plain": [
       "<Figure size 1440x1440 with 15 Axes>"
      ]
     },
     "metadata": {
      "needs_background": "light"
     },
     "output_type": "display_data"
    }
   ],
   "source": [
    "fig = plt.figure(figsize=(20,20)) #Plot distribution for all columns\n",
    "subCnt = 1\n",
    "for i in distplot_df.columns:\n",
    "    fig.add_subplot(4, 5, subCnt)\n",
    "    plt.xlabel(i, fontsize=12)\n",
    "    sns.distplot(distplot_df[i], color='red')\n",
    "    subCnt = subCnt + 1\n",
    "plt.show()"
   ]
  },
  {
   "cell_type": "code",
   "execution_count": 24,
   "metadata": {
    "id": "NTzRDOZmID41"
   },
   "outputs": [],
   "source": [
    "#sns.pairplot(distplot_df)"
   ]
  },
  {
   "cell_type": "code",
   "execution_count": 25,
   "metadata": {
    "colab": {
     "base_uri": "https://localhost:8080/",
     "height": 638
    },
    "id": "9q7rSv_UIYNI",
    "outputId": "77acf976-3987-4879-8d63-869f832b33d6"
   },
   "outputs": [
    {
     "data": {
      "image/png": "[encoded data removed]",
      "text/plain": [
       "<Figure size 1440x720 with 2 Axes>"
      ]
     },
     "metadata": {
      "needs_background": "light"
     },
     "output_type": "display_data"
    }
   ],
   "source": [
    "corr = distplot_df.corr()\n",
    "matrix = np.triu(distplot_df.corr())\n",
    "plt.figure(figsize= (20,10))\n",
    "sns.heatmap(corr, annot = True, fmt='.2f',cmap='coolwarm', vmax=1.0, vmin=-1.0, linewidths=1, linecolor = 'white',mask=matrix)\n",
    "plt.show()"
   ]
  },
  {
   "cell_type": "code",
   "execution_count": 26,
   "metadata": {
    "id": "2YB1T_Kjdjob"
   },
   "outputs": [],
   "source": [
    "df=distplot_df"
   ]
  },
  {
   "cell_type": "code",
   "execution_count": 27,
   "metadata": {
    "colab": {
     "base_uri": "https://localhost:8080/",
     "height": 464
    },
    "id": "DX50r7N3dmCc",
    "outputId": "40d68ae7-da77-4259-cf54-0a4c6a9891d1"
   },
   "outputs": [
    {
     "data": {
      "text/html": [
       "<div>\n",
       "<style scoped>\n",
       "    .dataframe tbody tr th:only-of-type {\n",
       "        vertical-align: middle;\n",
       "    }\n",
       "\n",
       "    .dataframe tbody tr th {\n",
       "        vertical-align: top;\n",
       "    }\n",
       "\n",
       "    .dataframe thead th {\n",
       "        text-align: right;\n",
       "    }\n",
       "</style>\n",
       "<table border=\"1\" class=\"dataframe\">\n",
       "  <thead>\n",
       "    <tr style=\"text-align: right;\">\n",
       "      <th></th>\n",
       "      <th>Country</th>\n",
       "      <th>Local</th>\n",
       "      <th>Industry Sector</th>\n",
       "      <th>Accident Level</th>\n",
       "      <th>Potential Accident Level</th>\n",
       "      <th>Gender</th>\n",
       "      <th>Employee type</th>\n",
       "      <th>Critical Risk</th>\n",
       "      <th>Year</th>\n",
       "      <th>Month</th>\n",
       "      <th>Day</th>\n",
       "      <th>WeekofYear</th>\n",
       "      <th>Weekday</th>\n",
       "      <th>MonthName</th>\n",
       "      <th>Season</th>\n",
       "    </tr>\n",
       "  </thead>\n",
       "  <tbody>\n",
       "    <tr>\n",
       "      <td>0</td>\n",
       "      <td>0</td>\n",
       "      <td>0</td>\n",
       "      <td>1</td>\n",
       "      <td>0</td>\n",
       "      <td>3</td>\n",
       "      <td>1</td>\n",
       "      <td>1</td>\n",
       "      <td>20</td>\n",
       "      <td>0</td>\n",
       "      <td>0</td>\n",
       "      <td>0</td>\n",
       "      <td>52</td>\n",
       "      <td>0</td>\n",
       "      <td>4</td>\n",
       "      <td>2</td>\n",
       "    </tr>\n",
       "    <tr>\n",
       "      <td>1</td>\n",
       "      <td>1</td>\n",
       "      <td>1</td>\n",
       "      <td>1</td>\n",
       "      <td>0</td>\n",
       "      <td>3</td>\n",
       "      <td>1</td>\n",
       "      <td>0</td>\n",
       "      <td>21</td>\n",
       "      <td>0</td>\n",
       "      <td>0</td>\n",
       "      <td>1</td>\n",
       "      <td>52</td>\n",
       "      <td>2</td>\n",
       "      <td>4</td>\n",
       "      <td>2</td>\n",
       "    </tr>\n",
       "    <tr>\n",
       "      <td>2</td>\n",
       "      <td>0</td>\n",
       "      <td>2</td>\n",
       "      <td>1</td>\n",
       "      <td>0</td>\n",
       "      <td>2</td>\n",
       "      <td>1</td>\n",
       "      <td>2</td>\n",
       "      <td>15</td>\n",
       "      <td>0</td>\n",
       "      <td>0</td>\n",
       "      <td>5</td>\n",
       "      <td>0</td>\n",
       "      <td>6</td>\n",
       "      <td>4</td>\n",
       "      <td>2</td>\n",
       "    </tr>\n",
       "    <tr>\n",
       "      <td>3</td>\n",
       "      <td>0</td>\n",
       "      <td>3</td>\n",
       "      <td>1</td>\n",
       "      <td>0</td>\n",
       "      <td>0</td>\n",
       "      <td>1</td>\n",
       "      <td>1</td>\n",
       "      <td>16</td>\n",
       "      <td>0</td>\n",
       "      <td>0</td>\n",
       "      <td>7</td>\n",
       "      <td>0</td>\n",
       "      <td>0</td>\n",
       "      <td>4</td>\n",
       "      <td>2</td>\n",
       "    </tr>\n",
       "    <tr>\n",
       "      <td>4</td>\n",
       "      <td>0</td>\n",
       "      <td>3</td>\n",
       "      <td>1</td>\n",
       "      <td>3</td>\n",
       "      <td>3</td>\n",
       "      <td>1</td>\n",
       "      <td>1</td>\n",
       "      <td>16</td>\n",
       "      <td>0</td>\n",
       "      <td>0</td>\n",
       "      <td>9</td>\n",
       "      <td>0</td>\n",
       "      <td>3</td>\n",
       "      <td>4</td>\n",
       "      <td>2</td>\n",
       "    </tr>\n",
       "    <tr>\n",
       "      <td>...</td>\n",
       "      <td>...</td>\n",
       "      <td>...</td>\n",
       "      <td>...</td>\n",
       "      <td>...</td>\n",
       "      <td>...</td>\n",
       "      <td>...</td>\n",
       "      <td>...</td>\n",
       "      <td>...</td>\n",
       "      <td>...</td>\n",
       "      <td>...</td>\n",
       "      <td>...</td>\n",
       "      <td>...</td>\n",
       "      <td>...</td>\n",
       "      <td>...</td>\n",
       "      <td>...</td>\n",
       "    </tr>\n",
       "    <tr>\n",
       "      <td>420</td>\n",
       "      <td>0</td>\n",
       "      <td>3</td>\n",
       "      <td>1</td>\n",
       "      <td>0</td>\n",
       "      <td>2</td>\n",
       "      <td>1</td>\n",
       "      <td>1</td>\n",
       "      <td>16</td>\n",
       "      <td>1</td>\n",
       "      <td>6</td>\n",
       "      <td>3</td>\n",
       "      <td>26</td>\n",
       "      <td>5</td>\n",
       "      <td>5</td>\n",
       "      <td>3</td>\n",
       "    </tr>\n",
       "    <tr>\n",
       "      <td>421</td>\n",
       "      <td>0</td>\n",
       "      <td>2</td>\n",
       "      <td>1</td>\n",
       "      <td>0</td>\n",
       "      <td>1</td>\n",
       "      <td>0</td>\n",
       "      <td>0</td>\n",
       "      <td>16</td>\n",
       "      <td>1</td>\n",
       "      <td>6</td>\n",
       "      <td>3</td>\n",
       "      <td>26</td>\n",
       "      <td>5</td>\n",
       "      <td>5</td>\n",
       "      <td>3</td>\n",
       "    </tr>\n",
       "    <tr>\n",
       "      <td>422</td>\n",
       "      <td>1</td>\n",
       "      <td>8</td>\n",
       "      <td>0</td>\n",
       "      <td>0</td>\n",
       "      <td>1</td>\n",
       "      <td>1</td>\n",
       "      <td>0</td>\n",
       "      <td>31</td>\n",
       "      <td>1</td>\n",
       "      <td>6</td>\n",
       "      <td>4</td>\n",
       "      <td>26</td>\n",
       "      <td>6</td>\n",
       "      <td>5</td>\n",
       "      <td>3</td>\n",
       "    </tr>\n",
       "    <tr>\n",
       "      <td>423</td>\n",
       "      <td>1</td>\n",
       "      <td>4</td>\n",
       "      <td>0</td>\n",
       "      <td>0</td>\n",
       "      <td>1</td>\n",
       "      <td>1</td>\n",
       "      <td>0</td>\n",
       "      <td>6</td>\n",
       "      <td>1</td>\n",
       "      <td>6</td>\n",
       "      <td>5</td>\n",
       "      <td>26</td>\n",
       "      <td>4</td>\n",
       "      <td>5</td>\n",
       "      <td>3</td>\n",
       "    </tr>\n",
       "    <tr>\n",
       "      <td>424</td>\n",
       "      <td>0</td>\n",
       "      <td>3</td>\n",
       "      <td>1</td>\n",
       "      <td>0</td>\n",
       "      <td>1</td>\n",
       "      <td>0</td>\n",
       "      <td>1</td>\n",
       "      <td>11</td>\n",
       "      <td>1</td>\n",
       "      <td>6</td>\n",
       "      <td>8</td>\n",
       "      <td>26</td>\n",
       "      <td>3</td>\n",
       "      <td>5</td>\n",
       "      <td>3</td>\n",
       "    </tr>\n",
       "  </tbody>\n",
       "</table>\n",
       "<p>425 rows × 15 columns</p>\n",
       "</div>"
      ],
      "text/plain": [
       "     Country  Local  Industry Sector  Accident Level  \\\n",
       "0          0      0                1               0   \n",
       "1          1      1                1               0   \n",
       "2          0      2                1               0   \n",
       "3          0      3                1               0   \n",
       "4          0      3                1               3   \n",
       "..       ...    ...              ...             ...   \n",
       "420        0      3                1               0   \n",
       "421        0      2                1               0   \n",
       "422        1      8                0               0   \n",
       "423        1      4                0               0   \n",
       "424        0      3                1               0   \n",
       "\n",
       "     Potential Accident Level  Gender  Employee type  Critical Risk  Year  \\\n",
       "0                           3       1              1             20     0   \n",
       "1                           3       1              0             21     0   \n",
       "2                           2       1              2             15     0   \n",
       "3                           0       1              1             16     0   \n",
       "4                           3       1              1             16     0   \n",
       "..                        ...     ...            ...            ...   ...   \n",
       "420                         2       1              1             16     1   \n",
       "421                         1       0              0             16     1   \n",
       "422                         1       1              0             31     1   \n",
       "423                         1       1              0              6     1   \n",
       "424                         1       0              1             11     1   \n",
       "\n",
       "     Month  Day  WeekofYear  Weekday  MonthName  Season  \n",
       "0        0    0          52        0          4       2  \n",
       "1        0    1          52        2          4       2  \n",
       "2        0    5           0        6          4       2  \n",
       "3        0    7           0        0          4       2  \n",
       "4        0    9           0        3          4       2  \n",
       "..     ...  ...         ...      ...        ...     ...  \n",
       "420      6    3          26        5          5       3  \n",
       "421      6    3          26        5          5       3  \n",
       "422      6    4          26        6          5       3  \n",
       "423      6    5          26        4          5       3  \n",
       "424      6    8          26        3          5       3  \n",
       "\n",
       "[425 rows x 15 columns]"
      ]
     },
     "execution_count": 27,
     "metadata": {},
     "output_type": "execute_result"
    }
   ],
   "source": [
    "df"
   ]
  },
  {
   "cell_type": "markdown",
   "metadata": {
    "id": "ZFYxMyIFfFOF"
   },
   "source": [
    "# **Taking Accident Level as target**"
   ]
  },
  {
   "cell_type": "code",
   "execution_count": 28,
   "metadata": {
    "id": "xm0KzCXzdf8E"
   },
   "outputs": [],
   "source": [
    "from sklearn.model_selection import train_test_split\n",
    "\n",
    "Y = df['Accident Level']   # Predicted column\n",
    "X = df.drop(['Accident Level'],axis=1)     # Predictor columns \n",
    "x_train, x_test, y_train, y_test = train_test_split(X, Y, test_size=0.3, random_state=1, stratify=Y)"
   ]
  },
  {
   "cell_type": "code",
   "execution_count": 29,
   "metadata": {
    "id": "chPDoFrwf6yb"
   },
   "outputs": [],
   "source": [
    "from sklearn.preprocessing import MinMaxScaler #Using MinMax Scalar to scale the data\n",
    "scaler = MinMaxScaler()\n",
    "X_train_scaled=scaler.fit_transform(x_train)\n",
    "X_test_scaled=scaler.transform(x_test)"
   ]
  },
  {
   "cell_type": "code",
   "execution_count": 30,
   "metadata": {
    "id": "ma2d0hEgVA3z"
   },
   "outputs": [],
   "source": [
    "def fit_n_print(EnsModel, X_train_scaled, X_test_scaled, y_train, y_test):  # take the model, train data and test data as input\n",
    "    \n",
    "    EnsModel.fit(X_train_scaled, y_train)   \n",
    "    pred = EnsModel.predict(X_test_scaled)    \n",
    "\n",
    "    TrainAccuracy = EnsModel.score(X_train_scaled, y_train)\n",
    "    TestAccuracy = EnsModel.score(X_test_scaled, y_test)\n",
    "    Precision = precision_score(y_test, pred, average=None)\n",
    "    Recall = recall_score(y_test, pred, average=None)\n",
    "    #F1 = f1_score(y_test, pred)\n",
    "    #MCC = matthews_corrcoef(y_test, pred)\n",
    "    \n",
    "    return TrainAccuracy, TestAccuracy, Precision, Recall, pred  # return all the metrics along with predictions"
   ]
  },
  {
   "cell_type": "code",
   "execution_count": 31,
   "metadata": {
    "id": "7Yia0KrvVA1X"
   },
   "outputs": [],
   "source": [
    "\n",
    "from sklearn import svm\n",
    "SVM =svm.SVC(gamma=0.25, C=1) \n",
    "from sklearn.neighbors import KNeighborsClassifier \n",
    "KNN = KNeighborsClassifier(n_neighbors=5)\n",
    "from sklearn.tree import DecisionTreeClassifier\n",
    "dTree = DecisionTreeClassifier(criterion = 'gini', random_state=1)\n",
    "from sklearn.ensemble import RandomForestClassifier\n",
    "rfcl = RandomForestClassifier(n_estimators = 50, random_state=1,max_features='auto')\n",
    "from lightgbm import LGBMClassifier\n",
    "lgb = LGBMClassifier()\n",
    "\n",
    "result = {}   # Create an empty dictionary to later use to store metrics of each of the models\n",
    "\n",
    "# putting all models in a for loop and appending the results of each of the models to the 'result' dictionary\n",
    "for model, name  in zip([SVM, KNN, dTree, rfcl, lgb], ['SVM', 'KNN', 'Decision Tree',\n",
    "                                                   'Random Forrest', 'LightGBM']):\n",
    "    result[name] = fit_n_print(model,X_train_scaled, X_test_scaled, y_train, y_test)  "
   ]
  },
  {
   "cell_type": "code",
   "execution_count": 32,
   "metadata": {
    "colab": {
     "base_uri": "https://localhost:8080/",
     "height": 297
    },
    "id": "i_4GZy6vVAy8",
    "outputId": "32117470-bc62-4493-8074-20b701705181"
   },
   "outputs": [
    {
     "data": {
      "text/html": [
       "<div>\n",
       "<style scoped>\n",
       "    .dataframe tbody tr th:only-of-type {\n",
       "        vertical-align: middle;\n",
       "    }\n",
       "\n",
       "    .dataframe tbody tr th {\n",
       "        vertical-align: top;\n",
       "    }\n",
       "\n",
       "    .dataframe thead th {\n",
       "        text-align: right;\n",
       "    }\n",
       "</style>\n",
       "<table border=\"1\" class=\"dataframe\">\n",
       "  <thead>\n",
       "    <tr style=\"text-align: right;\">\n",
       "      <th></th>\n",
       "      <th>Train Accuracy</th>\n",
       "      <th>Test Accuracy</th>\n",
       "      <th>Precision</th>\n",
       "      <th>Recall</th>\n",
       "    </tr>\n",
       "    <tr>\n",
       "      <th>Model</th>\n",
       "      <th></th>\n",
       "      <th></th>\n",
       "      <th></th>\n",
       "      <th></th>\n",
       "    </tr>\n",
       "  </thead>\n",
       "  <tbody>\n",
       "    <tr>\n",
       "      <td>SVM</td>\n",
       "      <td>0.744108</td>\n",
       "      <td>0.742188</td>\n",
       "      <td>[0.7421875, 0.0, 0.0, 0.0, 0.0]</td>\n",
       "      <td>[1.0, 0.0, 0.0, 0.0, 0.0]</td>\n",
       "    </tr>\n",
       "    <tr>\n",
       "      <td>KNN</td>\n",
       "      <td>0.76431</td>\n",
       "      <td>0.710938</td>\n",
       "      <td>[0.7583333333333333, 0.0, 0.0, 0.0, 0.0]</td>\n",
       "      <td>[0.9578947368421052, 0.0, 0.0, 0.0, 0.0]</td>\n",
       "    </tr>\n",
       "    <tr>\n",
       "      <td>Decision Tree</td>\n",
       "      <td>0.996633</td>\n",
       "      <td>0.601562</td>\n",
       "      <td>[0.782608695652174, 0.2, 0.07692307692307693, ...</td>\n",
       "      <td>[0.7578947368421053, 0.25, 0.1111111111111111,...</td>\n",
       "    </tr>\n",
       "    <tr>\n",
       "      <td>Random Forrest</td>\n",
       "      <td>0.996633</td>\n",
       "      <td>0.742188</td>\n",
       "      <td>[0.7768595041322314, 0.0, 0.5, 0.0, 0.0]</td>\n",
       "      <td>[0.9894736842105263, 0.0, 0.1111111111111111, ...</td>\n",
       "    </tr>\n",
       "    <tr>\n",
       "      <td>LightGBM</td>\n",
       "      <td>0.996633</td>\n",
       "      <td>0.757812</td>\n",
       "      <td>[0.8333333333333334, 0.4, 0.2857142857142857, ...</td>\n",
       "      <td>[0.9473684210526315, 0.16666666666666666, 0.22...</td>\n",
       "    </tr>\n",
       "  </tbody>\n",
       "</table>\n",
       "</div>"
      ],
      "text/plain": [
       "               Train Accuracy Test Accuracy  \\\n",
       "Model                                         \n",
       "SVM                  0.744108      0.742188   \n",
       "KNN                   0.76431      0.710938   \n",
       "Decision Tree        0.996633      0.601562   \n",
       "Random Forrest       0.996633      0.742188   \n",
       "LightGBM             0.996633      0.757812   \n",
       "\n",
       "                                                        Precision  \\\n",
       "Model                                                               \n",
       "SVM                               [0.7421875, 0.0, 0.0, 0.0, 0.0]   \n",
       "KNN                      [0.7583333333333333, 0.0, 0.0, 0.0, 0.0]   \n",
       "Decision Tree   [0.782608695652174, 0.2, 0.07692307692307693, ...   \n",
       "Random Forrest           [0.7768595041322314, 0.0, 0.5, 0.0, 0.0]   \n",
       "LightGBM        [0.8333333333333334, 0.4, 0.2857142857142857, ...   \n",
       "\n",
       "                                                           Recall  \n",
       "Model                                                              \n",
       "SVM                                     [1.0, 0.0, 0.0, 0.0, 0.0]  \n",
       "KNN                      [0.9578947368421052, 0.0, 0.0, 0.0, 0.0]  \n",
       "Decision Tree   [0.7578947368421053, 0.25, 0.1111111111111111,...  \n",
       "Random Forrest  [0.9894736842105263, 0.0, 0.1111111111111111, ...  \n",
       "LightGBM        [0.9473684210526315, 0.16666666666666666, 0.22...  "
      ]
     },
     "execution_count": 32,
     "metadata": {},
     "output_type": "execute_result"
    }
   ],
   "source": [
    "result1 = pd.DataFrame(np.array(list(result.values()))[:,:-1],    # make a dataframe out of the metrics from result dictionary \n",
    "                       columns= ['Train Accuracy', 'Test Accuracy', 'Precision', 'Recall'],\n",
    "                      index= result.keys())   # use the model names as index\n",
    "\n",
    "result1.index.name = 'Model'   # name the index of the result1 dataframe as 'Model'\n",
    "\n",
    "result1 "
   ]
  },
  {
   "cell_type": "markdown",
   "metadata": {
    "id": "xhUp-j9ikHfN"
   },
   "source": [
    "# Taking Potential Accident Level as target"
   ]
  },
  {
   "cell_type": "code",
   "execution_count": 33,
   "metadata": {
    "id": "l7XSIfl5lb4G"
   },
   "outputs": [],
   "source": [
    "index_names = df[ df['Potential Accident Level'] == 5 ].index \n"
   ]
  },
  {
   "cell_type": "code",
   "execution_count": 34,
   "metadata": {
    "colab": {
     "base_uri": "https://localhost:8080/"
    },
    "id": "wo_AL8efqBKC",
    "outputId": "715d415e-72b9-41e2-fd64-9779015aa1d3"
   },
   "outputs": [
    {
     "name": "stdout",
     "output_type": "stream",
     "text": [
      "Int64Index([307], dtype='int64')\n"
     ]
    }
   ],
   "source": [
    "print(index_names)"
   ]
  },
  {
   "cell_type": "code",
   "execution_count": 35,
   "metadata": {
    "colab": {
     "base_uri": "https://localhost:8080/"
    },
    "id": "VrLBj_EjqIMb",
    "outputId": "cfa7f191-c9c4-4e85-c880-537e5996df7b"
   },
   "outputs": [
    {
     "data": {
      "text/plain": [
       "Country                      0\n",
       "Local                        2\n",
       "Industry Sector              1\n",
       "Accident Level               4\n",
       "Potential Accident Level     5\n",
       "Gender                       1\n",
       "Employee type                1\n",
       "Critical Risk               32\n",
       "Year                         1\n",
       "Month                        0\n",
       "Day                         24\n",
       "WeekofYear                   3\n",
       "Weekday                      6\n",
       "MonthName                    4\n",
       "Season                       2\n",
       "Name: 307, dtype: int64"
      ]
     },
     "execution_count": 35,
     "metadata": {},
     "output_type": "execute_result"
    }
   ],
   "source": [
    "df.iloc[307]"
   ]
  },
  {
   "cell_type": "code",
   "execution_count": 36,
   "metadata": {
    "id": "cmjpsLcbp2hN"
   },
   "outputs": [],
   "source": [
    "df.drop(index_names, inplace = True) "
   ]
  },
  {
   "cell_type": "code",
   "execution_count": 37,
   "metadata": {
    "colab": {
     "base_uri": "https://localhost:8080/",
     "height": 464
    },
    "id": "PiDnZ_9smGwc",
    "outputId": "92496b46-3eec-490d-a3bc-8d6e6b2324b4"
   },
   "outputs": [
    {
     "data": {
      "text/html": [
       "<div>\n",
       "<style scoped>\n",
       "    .dataframe tbody tr th:only-of-type {\n",
       "        vertical-align: middle;\n",
       "    }\n",
       "\n",
       "    .dataframe tbody tr th {\n",
       "        vertical-align: top;\n",
       "    }\n",
       "\n",
       "    .dataframe thead th {\n",
       "        text-align: right;\n",
       "    }\n",
       "</style>\n",
       "<table border=\"1\" class=\"dataframe\">\n",
       "  <thead>\n",
       "    <tr style=\"text-align: right;\">\n",
       "      <th></th>\n",
       "      <th>Country</th>\n",
       "      <th>Local</th>\n",
       "      <th>Industry Sector</th>\n",
       "      <th>Accident Level</th>\n",
       "      <th>Potential Accident Level</th>\n",
       "      <th>Gender</th>\n",
       "      <th>Employee type</th>\n",
       "      <th>Critical Risk</th>\n",
       "      <th>Year</th>\n",
       "      <th>Month</th>\n",
       "      <th>Day</th>\n",
       "      <th>WeekofYear</th>\n",
       "      <th>Weekday</th>\n",
       "      <th>MonthName</th>\n",
       "      <th>Season</th>\n",
       "    </tr>\n",
       "  </thead>\n",
       "  <tbody>\n",
       "    <tr>\n",
       "      <td>0</td>\n",
       "      <td>0</td>\n",
       "      <td>0</td>\n",
       "      <td>1</td>\n",
       "      <td>0</td>\n",
       "      <td>3</td>\n",
       "      <td>1</td>\n",
       "      <td>1</td>\n",
       "      <td>20</td>\n",
       "      <td>0</td>\n",
       "      <td>0</td>\n",
       "      <td>0</td>\n",
       "      <td>52</td>\n",
       "      <td>0</td>\n",
       "      <td>4</td>\n",
       "      <td>2</td>\n",
       "    </tr>\n",
       "    <tr>\n",
       "      <td>1</td>\n",
       "      <td>1</td>\n",
       "      <td>1</td>\n",
       "      <td>1</td>\n",
       "      <td>0</td>\n",
       "      <td>3</td>\n",
       "      <td>1</td>\n",
       "      <td>0</td>\n",
       "      <td>21</td>\n",
       "      <td>0</td>\n",
       "      <td>0</td>\n",
       "      <td>1</td>\n",
       "      <td>52</td>\n",
       "      <td>2</td>\n",
       "      <td>4</td>\n",
       "      <td>2</td>\n",
       "    </tr>\n",
       "    <tr>\n",
       "      <td>2</td>\n",
       "      <td>0</td>\n",
       "      <td>2</td>\n",
       "      <td>1</td>\n",
       "      <td>0</td>\n",
       "      <td>2</td>\n",
       "      <td>1</td>\n",
       "      <td>2</td>\n",
       "      <td>15</td>\n",
       "      <td>0</td>\n",
       "      <td>0</td>\n",
       "      <td>5</td>\n",
       "      <td>0</td>\n",
       "      <td>6</td>\n",
       "      <td>4</td>\n",
       "      <td>2</td>\n",
       "    </tr>\n",
       "    <tr>\n",
       "      <td>3</td>\n",
       "      <td>0</td>\n",
       "      <td>3</td>\n",
       "      <td>1</td>\n",
       "      <td>0</td>\n",
       "      <td>0</td>\n",
       "      <td>1</td>\n",
       "      <td>1</td>\n",
       "      <td>16</td>\n",
       "      <td>0</td>\n",
       "      <td>0</td>\n",
       "      <td>7</td>\n",
       "      <td>0</td>\n",
       "      <td>0</td>\n",
       "      <td>4</td>\n",
       "      <td>2</td>\n",
       "    </tr>\n",
       "    <tr>\n",
       "      <td>4</td>\n",
       "      <td>0</td>\n",
       "      <td>3</td>\n",
       "      <td>1</td>\n",
       "      <td>3</td>\n",
       "      <td>3</td>\n",
       "      <td>1</td>\n",
       "      <td>1</td>\n",
       "      <td>16</td>\n",
       "      <td>0</td>\n",
       "      <td>0</td>\n",
       "      <td>9</td>\n",
       "      <td>0</td>\n",
       "      <td>3</td>\n",
       "      <td>4</td>\n",
       "      <td>2</td>\n",
       "    </tr>\n",
       "    <tr>\n",
       "      <td>...</td>\n",
       "      <td>...</td>\n",
       "      <td>...</td>\n",
       "      <td>...</td>\n",
       "      <td>...</td>\n",
       "      <td>...</td>\n",
       "      <td>...</td>\n",
       "      <td>...</td>\n",
       "      <td>...</td>\n",
       "      <td>...</td>\n",
       "      <td>...</td>\n",
       "      <td>...</td>\n",
       "      <td>...</td>\n",
       "      <td>...</td>\n",
       "      <td>...</td>\n",
       "      <td>...</td>\n",
       "    </tr>\n",
       "    <tr>\n",
       "      <td>420</td>\n",
       "      <td>0</td>\n",
       "      <td>3</td>\n",
       "      <td>1</td>\n",
       "      <td>0</td>\n",
       "      <td>2</td>\n",
       "      <td>1</td>\n",
       "      <td>1</td>\n",
       "      <td>16</td>\n",
       "      <td>1</td>\n",
       "      <td>6</td>\n",
       "      <td>3</td>\n",
       "      <td>26</td>\n",
       "      <td>5</td>\n",
       "      <td>5</td>\n",
       "      <td>3</td>\n",
       "    </tr>\n",
       "    <tr>\n",
       "      <td>421</td>\n",
       "      <td>0</td>\n",
       "      <td>2</td>\n",
       "      <td>1</td>\n",
       "      <td>0</td>\n",
       "      <td>1</td>\n",
       "      <td>0</td>\n",
       "      <td>0</td>\n",
       "      <td>16</td>\n",
       "      <td>1</td>\n",
       "      <td>6</td>\n",
       "      <td>3</td>\n",
       "      <td>26</td>\n",
       "      <td>5</td>\n",
       "      <td>5</td>\n",
       "      <td>3</td>\n",
       "    </tr>\n",
       "    <tr>\n",
       "      <td>422</td>\n",
       "      <td>1</td>\n",
       "      <td>8</td>\n",
       "      <td>0</td>\n",
       "      <td>0</td>\n",
       "      <td>1</td>\n",
       "      <td>1</td>\n",
       "      <td>0</td>\n",
       "      <td>31</td>\n",
       "      <td>1</td>\n",
       "      <td>6</td>\n",
       "      <td>4</td>\n",
       "      <td>26</td>\n",
       "      <td>6</td>\n",
       "      <td>5</td>\n",
       "      <td>3</td>\n",
       "    </tr>\n",
       "    <tr>\n",
       "      <td>423</td>\n",
       "      <td>1</td>\n",
       "      <td>4</td>\n",
       "      <td>0</td>\n",
       "      <td>0</td>\n",
       "      <td>1</td>\n",
       "      <td>1</td>\n",
       "      <td>0</td>\n",
       "      <td>6</td>\n",
       "      <td>1</td>\n",
       "      <td>6</td>\n",
       "      <td>5</td>\n",
       "      <td>26</td>\n",
       "      <td>4</td>\n",
       "      <td>5</td>\n",
       "      <td>3</td>\n",
       "    </tr>\n",
       "    <tr>\n",
       "      <td>424</td>\n",
       "      <td>0</td>\n",
       "      <td>3</td>\n",
       "      <td>1</td>\n",
       "      <td>0</td>\n",
       "      <td>1</td>\n",
       "      <td>0</td>\n",
       "      <td>1</td>\n",
       "      <td>11</td>\n",
       "      <td>1</td>\n",
       "      <td>6</td>\n",
       "      <td>8</td>\n",
       "      <td>26</td>\n",
       "      <td>3</td>\n",
       "      <td>5</td>\n",
       "      <td>3</td>\n",
       "    </tr>\n",
       "  </tbody>\n",
       "</table>\n",
       "<p>424 rows × 15 columns</p>\n",
       "</div>"
      ],
      "text/plain": [
       "     Country  Local  Industry Sector  Accident Level  \\\n",
       "0          0      0                1               0   \n",
       "1          1      1                1               0   \n",
       "2          0      2                1               0   \n",
       "3          0      3                1               0   \n",
       "4          0      3                1               3   \n",
       "..       ...    ...              ...             ...   \n",
       "420        0      3                1               0   \n",
       "421        0      2                1               0   \n",
       "422        1      8                0               0   \n",
       "423        1      4                0               0   \n",
       "424        0      3                1               0   \n",
       "\n",
       "     Potential Accident Level  Gender  Employee type  Critical Risk  Year  \\\n",
       "0                           3       1              1             20     0   \n",
       "1                           3       1              0             21     0   \n",
       "2                           2       1              2             15     0   \n",
       "3                           0       1              1             16     0   \n",
       "4                           3       1              1             16     0   \n",
       "..                        ...     ...            ...            ...   ...   \n",
       "420                         2       1              1             16     1   \n",
       "421                         1       0              0             16     1   \n",
       "422                         1       1              0             31     1   \n",
       "423                         1       1              0              6     1   \n",
       "424                         1       0              1             11     1   \n",
       "\n",
       "     Month  Day  WeekofYear  Weekday  MonthName  Season  \n",
       "0        0    0          52        0          4       2  \n",
       "1        0    1          52        2          4       2  \n",
       "2        0    5           0        6          4       2  \n",
       "3        0    7           0        0          4       2  \n",
       "4        0    9           0        3          4       2  \n",
       "..     ...  ...         ...      ...        ...     ...  \n",
       "420      6    3          26        5          5       3  \n",
       "421      6    3          26        5          5       3  \n",
       "422      6    4          26        6          5       3  \n",
       "423      6    5          26        4          5       3  \n",
       "424      6    8          26        3          5       3  \n",
       "\n",
       "[424 rows x 15 columns]"
      ]
     },
     "execution_count": 37,
     "metadata": {},
     "output_type": "execute_result"
    }
   ],
   "source": [
    "df"
   ]
  },
  {
   "cell_type": "code",
   "execution_count": 38,
   "metadata": {
    "id": "kSVHj0DfVAp6"
   },
   "outputs": [],
   "source": [
    "Y = df['Potential Accident Level']   # Predicted column\n",
    "X = df.drop(['Potential Accident Level'],axis=1)     # Predictor columns \n",
    "x_train, x_test, y_train, y_test = train_test_split(X, Y, test_size=0.3, random_state=1, stratify=Y)"
   ]
  },
  {
   "cell_type": "code",
   "execution_count": 39,
   "metadata": {
    "id": "Rou8hOcvkUyd"
   },
   "outputs": [],
   "source": [
    "X_train_scaled=scaler.fit_transform(x_train)\n",
    "X_test_scaled=scaler.transform(x_test)"
   ]
  },
  {
   "cell_type": "code",
   "execution_count": 40,
   "metadata": {
    "id": "Q_r5zxeGkeQ1"
   },
   "outputs": [],
   "source": [
    "result = {}   # Create an empty dictionary to later use to store metrics of each of the models\n",
    "\n",
    "# putting all models in a for loop and appending the results of each of the models to the 'result' dictionary\n",
    "for model, name  in zip([SVM, KNN, dTree, rfcl, lgb], ['SVM', 'KNN', 'Decision Tree',\n",
    "                                                   'Random Forrest', 'LightGBM']):\n",
    "    result[name] = fit_n_print(model,X_train_scaled, X_test_scaled, y_train, y_test)  "
   ]
  },
  {
   "cell_type": "code",
   "execution_count": 41,
   "metadata": {
    "colab": {
     "base_uri": "https://localhost:8080/",
     "height": 331
    },
    "id": "ZL8r07lgkiw4",
    "outputId": "7ed37410-e28e-4008-b995-4c921df14d90"
   },
   "outputs": [
    {
     "data": {
      "text/html": [
       "<div>\n",
       "<style scoped>\n",
       "    .dataframe tbody tr th:only-of-type {\n",
       "        vertical-align: middle;\n",
       "    }\n",
       "\n",
       "    .dataframe tbody tr th {\n",
       "        vertical-align: top;\n",
       "    }\n",
       "\n",
       "    .dataframe thead th {\n",
       "        text-align: right;\n",
       "    }\n",
       "</style>\n",
       "<table border=\"1\" class=\"dataframe\">\n",
       "  <thead>\n",
       "    <tr style=\"text-align: right;\">\n",
       "      <th></th>\n",
       "      <th>Train Accuracy</th>\n",
       "      <th>Test Accuracy</th>\n",
       "      <th>Precision</th>\n",
       "      <th>Recall</th>\n",
       "    </tr>\n",
       "    <tr>\n",
       "      <th>Model</th>\n",
       "      <th></th>\n",
       "      <th></th>\n",
       "      <th></th>\n",
       "      <th></th>\n",
       "    </tr>\n",
       "  </thead>\n",
       "  <tbody>\n",
       "    <tr>\n",
       "      <td>SVM</td>\n",
       "      <td>0.543919</td>\n",
       "      <td>0.46875</td>\n",
       "      <td>[0.6666666666666666, 0.5294117647058824, 0.346...</td>\n",
       "      <td>[0.6666666666666666, 0.3103448275862069, 0.281...</td>\n",
       "    </tr>\n",
       "    <tr>\n",
       "      <td>KNN</td>\n",
       "      <td>0.601351</td>\n",
       "      <td>0.382812</td>\n",
       "      <td>[0.5555555555555556, 0.34375, 0.29411764705882...</td>\n",
       "      <td>[0.6666666666666666, 0.3793103448275862, 0.312...</td>\n",
       "    </tr>\n",
       "    <tr>\n",
       "      <td>Decision Tree</td>\n",
       "      <td>0.996622</td>\n",
       "      <td>0.421875</td>\n",
       "      <td>[0.5, 0.375, 0.36363636363636365, 0.4883720930...</td>\n",
       "      <td>[0.5333333333333333, 0.3103448275862069, 0.375...</td>\n",
       "    </tr>\n",
       "    <tr>\n",
       "      <td>Random Forrest</td>\n",
       "      <td>0.996622</td>\n",
       "      <td>0.453125</td>\n",
       "      <td>[0.6428571428571429, 0.4444444444444444, 0.260...</td>\n",
       "      <td>[0.6, 0.41379310344827586, 0.1875, 0.627906976...</td>\n",
       "    </tr>\n",
       "    <tr>\n",
       "      <td>LightGBM</td>\n",
       "      <td>0.966216</td>\n",
       "      <td>0.46875</td>\n",
       "      <td>[0.8333333333333334, 0.5, 0.28125, 0.509803921...</td>\n",
       "      <td>[0.6666666666666666, 0.41379310344827586, 0.28...</td>\n",
       "    </tr>\n",
       "  </tbody>\n",
       "</table>\n",
       "</div>"
      ],
      "text/plain": [
       "               Train Accuracy Test Accuracy  \\\n",
       "Model                                         \n",
       "SVM                  0.543919       0.46875   \n",
       "KNN                  0.601351      0.382812   \n",
       "Decision Tree        0.996622      0.421875   \n",
       "Random Forrest       0.996622      0.453125   \n",
       "LightGBM             0.966216       0.46875   \n",
       "\n",
       "                                                        Precision  \\\n",
       "Model                                                               \n",
       "SVM             [0.6666666666666666, 0.5294117647058824, 0.346...   \n",
       "KNN             [0.5555555555555556, 0.34375, 0.29411764705882...   \n",
       "Decision Tree   [0.5, 0.375, 0.36363636363636365, 0.4883720930...   \n",
       "Random Forrest  [0.6428571428571429, 0.4444444444444444, 0.260...   \n",
       "LightGBM        [0.8333333333333334, 0.5, 0.28125, 0.509803921...   \n",
       "\n",
       "                                                           Recall  \n",
       "Model                                                              \n",
       "SVM             [0.6666666666666666, 0.3103448275862069, 0.281...  \n",
       "KNN             [0.6666666666666666, 0.3793103448275862, 0.312...  \n",
       "Decision Tree   [0.5333333333333333, 0.3103448275862069, 0.375...  \n",
       "Random Forrest  [0.6, 0.41379310344827586, 0.1875, 0.627906976...  \n",
       "LightGBM        [0.6666666666666666, 0.41379310344827586, 0.28...  "
      ]
     },
     "execution_count": 41,
     "metadata": {},
     "output_type": "execute_result"
    }
   ],
   "source": [
    "result1 = pd.DataFrame(np.array(list(result.values()))[:,:-1],    # make a dataframe out of the metrics from result dictionary \n",
    "                       columns= ['Train Accuracy', 'Test Accuracy', 'Precision', 'Recall'],\n",
    "                      index= result.keys())   # use the model names as index\n",
    "\n",
    "result1.index.name = 'Model'   # name the index of the result1 dataframe as 'Model'\n",
    "\n",
    "result1 "
   ]
  },
  {
   "cell_type": "markdown",
   "metadata": {
    "id": "8ooWQb4H6yJr"
   },
   "source": [
    "# PCA"
   ]
  },
  {
   "cell_type": "code",
   "execution_count": 42,
   "metadata": {
    "id": "4BqWQhLQ9pRx"
   },
   "outputs": [],
   "source": [
    "from scipy.stats import zscore  "
   ]
  },
  {
   "cell_type": "code",
   "execution_count": 43,
   "metadata": {
    "id": "Cp4YBIN59U0p"
   },
   "outputs": [],
   "source": [
    "X_PCA = df.drop(['Accident Level'],axis=1)\n",
    "X_scaled_pca = X_PCA.apply(zscore)"
   ]
  },
  {
   "cell_type": "code",
   "execution_count": 44,
   "metadata": {
    "colab": {
     "base_uri": "https://localhost:8080/"
    },
    "id": "PqRuGAvW9-nZ",
    "outputId": "4a17b9ad-284f-46d8-98ac-2a0cfc2f5d7c"
   },
   "outputs": [
    {
     "data": {
      "text/plain": [
       "(424, 14)"
      ]
     },
     "execution_count": 44,
     "metadata": {},
     "output_type": "execute_result"
    }
   ],
   "source": [
    "X_scaled_pca.shape"
   ]
  },
  {
   "cell_type": "code",
   "execution_count": 45,
   "metadata": {
    "colab": {
     "base_uri": "https://localhost:8080/"
    },
    "id": "Ie11ZE-E5VHK",
    "outputId": "c43802bd-017e-4d43-d8a6-fca0da15ba9b"
   },
   "outputs": [
    {
     "name": "stdout",
     "output_type": "stream",
     "text": [
      "[[ 1.    0.72  0.26 -0.4  -0.06 -0.01 -0.04  0.11 -0.03 -0.02 -0.03  0.17\n",
      "   0.03 -0.03]\n",
      " [ 0.72  1.    0.14 -0.44 -0.16 -0.07 -0.02  0.07  0.01 -0.03 -0.01  0.21\n",
      "   0.12 -0.05]\n",
      " [ 0.26  0.14  1.   -0.12  0.08  0.06  0.15  0.11 -0.04  0.03 -0.03  0.09\n",
      "   0.04 -0.02]\n",
      " [-0.4  -0.44 -0.12  1.    0.08 -0.03  0.08 -0.01 -0.04 -0.   -0.03 -0.12\n",
      "  -0.04 -0.05]\n",
      " [-0.06 -0.16  0.08  0.08  1.   -0.05  0.1  -0.02 -0.05  0.01 -0.05 -0.05\n",
      "  -0.02 -0.06]\n",
      " [-0.01 -0.07  0.06 -0.03 -0.05  1.   -0.04  0.07 -0.1  -0.1  -0.11  0.03\n",
      "  -0.05 -0.05]\n",
      " [-0.04 -0.02  0.15  0.08  0.1  -0.04  1.    0.27 -0.08  0.03 -0.06 -0.\n",
      "  -0.03 -0.05]\n",
      " [ 0.11  0.07  0.11 -0.01 -0.02  0.07  0.27  1.   -0.42 -0.01 -0.42  0.07\n",
      "  -0.16 -0.02]\n",
      " [-0.03  0.01 -0.04 -0.04 -0.05 -0.1  -0.08 -0.42  1.    0.    0.97 -0.03\n",
      "   0.3   0.17]\n",
      " [-0.02 -0.03  0.03 -0.    0.01 -0.1   0.03 -0.01  0.    1.    0.06 -0.01\n",
      "  -0.03  0.  ]\n",
      " [-0.03 -0.01 -0.03 -0.03 -0.05 -0.11 -0.06 -0.42  0.97  0.06  1.   -0.05\n",
      "   0.28  0.18]\n",
      " [ 0.17  0.21  0.09 -0.12 -0.05  0.03 -0.    0.07 -0.03 -0.01 -0.05  1.\n",
      "   0.12 -0.07]\n",
      " [ 0.03  0.12  0.04 -0.04 -0.02 -0.05 -0.03 -0.16  0.3  -0.03  0.28  0.12\n",
      "   1.   -0.17]\n",
      " [-0.03 -0.05 -0.02 -0.05 -0.06 -0.05 -0.05 -0.02  0.17  0.    0.18 -0.07\n",
      "  -0.17  1.  ]]\n"
     ]
    }
   ],
   "source": [
    "covMatrix = np.cov(X_scaled_pca,rowvar=False)\n",
    "print(covMatrix.round(2))"
   ]
  },
  {
   "cell_type": "code",
   "execution_count": 46,
   "metadata": {
    "colab": {
     "base_uri": "https://localhost:8080/"
    },
    "id": "Gyz-xl71915X",
    "outputId": "1a8ce6f3-b1b3-49ac-88ae-76bb6ee68552"
   },
   "outputs": [
    {
     "data": {
      "text/plain": [
       "PCA(copy=True, iterated_power='auto', n_components=14, random_state=None,\n",
       "    svd_solver='auto', tol=0.0, whiten=False)"
      ]
     },
     "execution_count": 46,
     "metadata": {},
     "output_type": "execute_result"
    }
   ],
   "source": [
    "from sklearn.decomposition import PCA\n",
    "pca = PCA(n_components=14)\n",
    "pca.fit(X_scaled_pca)"
   ]
  },
  {
   "cell_type": "code",
   "execution_count": 47,
   "metadata": {
    "colab": {
     "base_uri": "https://localhost:8080/"
    },
    "id": "w7sWei1B-EMS",
    "outputId": "db4a41ca-18ea-417f-fcd0-2281d0c6cddf"
   },
   "outputs": [
    {
     "name": "stdout",
     "output_type": "stream",
     "text": [
      "[2.49 2.26 1.28 1.21 1.07 0.99 0.95 0.88 0.75 0.69 0.63 0.55 0.25 0.03]\n"
     ]
    }
   ],
   "source": [
    "print(pca.explained_variance_.round(2))"
   ]
  },
  {
   "cell_type": "code",
   "execution_count": 48,
   "metadata": {
    "colab": {
     "base_uri": "https://localhost:8080/"
    },
    "id": "eSYHSFGe-n46",
    "outputId": "6cbd9838-b019-4ec4-98c8-61f650be8727"
   },
   "outputs": [
    {
     "name": "stdout",
     "output_type": "stream",
     "text": [
      "[0.177 0.161 0.091 0.086 0.076 0.071 0.068 0.063 0.054 0.049 0.045 0.039\n",
      " 0.018 0.002]\n"
     ]
    }
   ],
   "source": [
    "var_ratio = pca.explained_variance_ratio_.round(3)\n",
    "print(var_ratio) # Percentage of variation explained by each eigen Vector"
   ]
  },
  {
   "cell_type": "code",
   "execution_count": 49,
   "metadata": {
    "id": "r3bB-S1C-Qsi"
   },
   "outputs": [],
   "source": [
    "from matplotlib import pyplot as plt"
   ]
  },
  {
   "cell_type": "code",
   "execution_count": 50,
   "metadata": {
    "colab": {
     "base_uri": "https://localhost:8080/",
     "height": 279
    },
    "id": "0VNp7CNq-L2d",
    "outputId": "4713d570-ff82-47bf-8fc5-ec0b341d7247"
   },
   "outputs": [
    {
     "data": {
      "image/png": "[encoded data removed]",
      "text/plain": [
       "<Figure size 432x288 with 1 Axes>"
      ]
     },
     "metadata": {
      "needs_background": "light"
     },
     "output_type": "display_data"
    }
   ],
   "source": [
    "plt.bar(list(range(1,15)),pca.explained_variance_ratio_,alpha=0.5, align='center')\n",
    "plt.ylabel('Variation explained')\n",
    "plt.xlabel('eigen Value')\n",
    "plt.show()"
   ]
  },
  {
   "cell_type": "code",
   "execution_count": 51,
   "metadata": {
    "colab": {
     "base_uri": "https://localhost:8080/",
     "height": 279
    },
    "id": "OmwPISoc-8pp",
    "outputId": "a9e717a5-9b8c-4ea8-e4d5-b8f09b411ac8"
   },
   "outputs": [
    {
     "data": {
      "image/png": "[encoded data removed]",
      "text/plain": [
       "<Figure size 432x288 with 1 Axes>"
      ]
     },
     "metadata": {
      "needs_background": "light"
     },
     "output_type": "display_data"
    }
   ],
   "source": [
    "plt.step(list(range(1,15)),np.cumsum(pca.explained_variance_ratio_), where='mid')\n",
    "plt.ylabel('Cum of variation explained')\n",
    "plt.xlabel('eigen Value')\n",
    "plt.show()"
   ]
  },
  {
   "cell_type": "code",
   "execution_count": null,
   "metadata": {
    "id": "twND_OVO_uZ6"
   },
   "outputs": [],
   "source": []
  },
  {
   "cell_type": "markdown",
   "metadata": {
    "id": "itvu3lShfi8h"
   },
   "source": [
    "# NLP - Taking only Description as X and Accident Level as Y"
   ]
  },
  {
   "cell_type": "code",
   "execution_count": 52,
   "metadata": {
    "id": "nKwJ44qIfhrO"
   },
   "outputs": [],
   "source": [
    "df=pd.read_csv('IHMStefanini_industrial_safety_and_health_database_with_accidents_description.csv')"
   ]
  },
  {
   "cell_type": "code",
   "execution_count": 53,
   "metadata": {
    "colab": {
     "base_uri": "https://localhost:8080/"
    },
    "id": "S2KYcthLfmcA",
    "outputId": "28f89c89-abd4-41a1-fbaa-dca9d5b457c6"
   },
   "outputs": [
    {
     "name": "stdout",
     "output_type": "stream",
     "text": [
      "Training utterances: 361\n",
      "Validation utterances: 64\n"
     ]
    }
   ],
   "source": [
    "X_train, X_test, y_train, y_test = train_test_split(\n",
    "    df['Description'].values, df['Accident Level'].values, \n",
    "    test_size=0.15, random_state=0)\n",
    "print('Training utterances: {}'.format(X_train.shape[0]))\n",
    "print('Validation utterances: {}'.format(X_test.shape[0]))"
   ]
  },
  {
   "cell_type": "code",
   "execution_count": 54,
   "metadata": {
    "colab": {
     "base_uri": "https://localhost:8080/",
     "height": 88
    },
    "id": "-8PZseDcfmZX",
    "outputId": "22348217-817f-4444-dd80-8e029d0da8cd"
   },
   "outputs": [
    {
     "data": {
      "text/plain": [
       "'Being 9:40 a.m. The driver of the AEQ-819 plate dump truck (35 Ton) was heading to the loading area Nv.1850, OB5, Tj 007, Bp.105, parking and proceeding with the ore loading with the scoop (11 ydrs) , at that moment, lift the first scoop towards the hopper and a large bank falls, causing the tipper to shake violently and the operator to be hit with the gear lever, communicate with the supervisor and evacuated to the medical center .'"
      ]
     },
     "execution_count": 54,
     "metadata": {},
     "output_type": "execute_result"
    }
   ],
   "source": [
    "X_train[0]"
   ]
  },
  {
   "cell_type": "code",
   "execution_count": 55,
   "metadata": {
    "colab": {
     "base_uri": "https://localhost:8080/",
     "height": 35
    },
    "id": "ZyBfzCPdfmW_",
    "outputId": "5526ccd4-8a4c-4fb8-a315-6dc76e77b5a0"
   },
   "outputs": [
    {
     "data": {
      "text/plain": [
       "'IV'"
      ]
     },
     "execution_count": 55,
     "metadata": {},
     "output_type": "execute_result"
    }
   ],
   "source": [
    "y_train[0]"
   ]
  },
  {
   "cell_type": "code",
   "execution_count": 56,
   "metadata": {
    "id": "BLgM9wNYgNUl"
   },
   "outputs": [],
   "source": [
    "from sklearn.feature_extraction.text import TfidfVectorizer"
   ]
  },
  {
   "cell_type": "code",
   "execution_count": 57,
   "metadata": {
    "colab": {
     "base_uri": "https://localhost:8080/"
    },
    "id": "gXjRdk9IfmUZ",
    "outputId": "a71603d1-c124-475a-ee18-4fb890656d1a"
   },
   "outputs": [
    {
     "data": {
      "text/plain": [
       "TfidfVectorizer(analyzer='word', binary=False, decode_error='strict',\n",
       "                dtype=<class 'numpy.float64'>, encoding='utf-8',\n",
       "                input='content', lowercase=True, max_df=1.0, max_features=None,\n",
       "                min_df=1, ngram_range=(1, 1), norm='l2', preprocessor=None,\n",
       "                smooth_idf=True, stop_words=None, strip_accents=None,\n",
       "                sublinear_tf=False, token_pattern='(?u)\\\\b\\\\w\\\\w+\\\\b',\n",
       "                tokenizer=None, use_idf=True, vocabulary=None)"
      ]
     },
     "execution_count": 57,
     "metadata": {},
     "output_type": "execute_result"
    }
   ],
   "source": [
    "vectorizer = TfidfVectorizer()\n",
    "vectorizer.fit(X_train)"
   ]
  },
  {
   "cell_type": "code",
   "execution_count": 58,
   "metadata": {
    "colab": {
     "base_uri": "https://localhost:8080/"
    },
    "id": "o-VQ2njmfmJo",
    "outputId": "73177a56-35d7-4384-df10-a877c1871ca0"
   },
   "outputs": [
    {
     "data": {
      "text/plain": [
       "(<361x3165 sparse matrix of type '<class 'numpy.float64'>'\n",
       " \twith 15934 stored elements in Compressed Sparse Row format>,\n",
       " <64x3165 sparse matrix of type '<class 'numpy.float64'>'\n",
       " \twith 2433 stored elements in Compressed Sparse Row format>)"
      ]
     },
     "execution_count": 58,
     "metadata": {},
     "output_type": "execute_result"
    }
   ],
   "source": [
    "X_train = vectorizer.transform(X_train)\n",
    "X_test = vectorizer.transform(X_test)\n",
    "X_train, X_test"
   ]
  },
  {
   "cell_type": "code",
   "execution_count": 59,
   "metadata": {
    "colab": {
     "base_uri": "https://localhost:8080/"
    },
    "id": "SAuNDknPgXt6",
    "outputId": "017ee30e-4596-4813-d0b9-f3325c6fadc7"
   },
   "outputs": [
    {
     "data": {
      "text/plain": [
       "(<361x2000 sparse matrix of type '<class 'numpy.float64'>'\n",
       " \twith 13408 stored elements in Compressed Sparse Row format>,\n",
       " <64x2000 sparse matrix of type '<class 'numpy.float64'>'\n",
       " \twith 2054 stored elements in Compressed Sparse Row format>)"
      ]
     },
     "execution_count": 59,
     "metadata": {},
     "output_type": "execute_result"
    }
   ],
   "source": [
    "from sklearn.feature_selection import SelectKBest, chi2\n",
    "\n",
    "ch2 = SelectKBest(chi2, k=2000)\n",
    "X_train = ch2.fit_transform(X_train, y_train)\n",
    "X_test = ch2.transform(X_test)\n",
    "\n",
    "X_train, X_test"
   ]
  },
  {
   "cell_type": "code",
   "execution_count": 60,
   "metadata": {
    "id": "1PkK3XSdgdFB"
   },
   "outputs": [],
   "source": [
    "from sklearn.preprocessing import MaxAbsScaler\n",
    "MaxAbsScaler=MaxAbsScaler()\n",
    "X_train_scaled=MaxAbsScaler.fit_transform(X_train)\n",
    "X_test_scaled=MaxAbsScaler.transform(X_test)\n"
   ]
  },
  {
   "cell_type": "code",
   "execution_count": 61,
   "metadata": {
    "id": "hLyYwTUWg-mh"
   },
   "outputs": [],
   "source": [
    "result = {}   # Create an empty dictionary to later use to store metrics of each of the models\n",
    "\n",
    "# putting all models in a for loop and appending the results of each of the models to the 'result' dictionary\n",
    "for model, name  in zip([SVM, KNN, dTree, rfcl, lgb], ['SVM', 'KNN', 'Decision Tree',\n",
    "                                                   'Random Forrest', 'LightGBM']):\n",
    "    result[name] = fit_n_print(model,X_train_scaled, X_test_scaled, y_train, y_test)  "
   ]
  },
  {
   "cell_type": "code",
   "execution_count": 62,
   "metadata": {
    "colab": {
     "base_uri": "https://localhost:8080/",
     "height": 230
    },
    "id": "Vr7BWlqghCQN",
    "outputId": "37470ded-63c1-445b-c712-9a55b1d6018b"
   },
   "outputs": [
    {
     "data": {
      "text/html": [
       "<div>\n",
       "<style scoped>\n",
       "    .dataframe tbody tr th:only-of-type {\n",
       "        vertical-align: middle;\n",
       "    }\n",
       "\n",
       "    .dataframe tbody tr th {\n",
       "        vertical-align: top;\n",
       "    }\n",
       "\n",
       "    .dataframe thead th {\n",
       "        text-align: right;\n",
       "    }\n",
       "</style>\n",
       "<table border=\"1\" class=\"dataframe\">\n",
       "  <thead>\n",
       "    <tr style=\"text-align: right;\">\n",
       "      <th></th>\n",
       "      <th>Train Accuracy</th>\n",
       "      <th>Test Accuracy</th>\n",
       "      <th>Precision</th>\n",
       "      <th>Recall</th>\n",
       "    </tr>\n",
       "    <tr>\n",
       "      <th>Model</th>\n",
       "      <th></th>\n",
       "      <th></th>\n",
       "      <th></th>\n",
       "      <th></th>\n",
       "    </tr>\n",
       "  </thead>\n",
       "  <tbody>\n",
       "    <tr>\n",
       "      <td>SVM</td>\n",
       "      <td>0.99169</td>\n",
       "      <td>0.765625</td>\n",
       "      <td>[0.7777777777777778, 0.0, 0.0, 0.0, 0.0]</td>\n",
       "      <td>[1.0, 0.0, 0.0, 0.0, 0.0]</td>\n",
       "    </tr>\n",
       "    <tr>\n",
       "      <td>KNN</td>\n",
       "      <td>0.739612</td>\n",
       "      <td>0.765625</td>\n",
       "      <td>[0.765625, 0.0, 0.0, 0.0, 0.0]</td>\n",
       "      <td>[1.0, 0.0, 0.0, 0.0, 0.0]</td>\n",
       "    </tr>\n",
       "    <tr>\n",
       "      <td>Decision Tree</td>\n",
       "      <td>0.99723</td>\n",
       "      <td>0.65625</td>\n",
       "      <td>[0.7777777777777778, 0.0, 0.0, 0.0, 0.0]</td>\n",
       "      <td>[0.8571428571428571, 0.0, 0.0, 0.0, 0.0]</td>\n",
       "    </tr>\n",
       "    <tr>\n",
       "      <td>Random Forrest</td>\n",
       "      <td>0.99723</td>\n",
       "      <td>0.765625</td>\n",
       "      <td>[0.7777777777777778, 0.0, 0.0, 0.0, 0.0]</td>\n",
       "      <td>[1.0, 0.0, 0.0, 0.0, 0.0]</td>\n",
       "    </tr>\n",
       "    <tr>\n",
       "      <td>LightGBM</td>\n",
       "      <td>0.99723</td>\n",
       "      <td>0.78125</td>\n",
       "      <td>[0.8032786885245902, 1.0, 0.0, 0.0, 0.0]</td>\n",
       "      <td>[1.0, 0.16666666666666666, 0.0, 0.0, 0.0]</td>\n",
       "    </tr>\n",
       "  </tbody>\n",
       "</table>\n",
       "</div>"
      ],
      "text/plain": [
       "               Train Accuracy Test Accuracy  \\\n",
       "Model                                         \n",
       "SVM                   0.99169      0.765625   \n",
       "KNN                  0.739612      0.765625   \n",
       "Decision Tree         0.99723       0.65625   \n",
       "Random Forrest        0.99723      0.765625   \n",
       "LightGBM              0.99723       0.78125   \n",
       "\n",
       "                                               Precision  \\\n",
       "Model                                                      \n",
       "SVM             [0.7777777777777778, 0.0, 0.0, 0.0, 0.0]   \n",
       "KNN                       [0.765625, 0.0, 0.0, 0.0, 0.0]   \n",
       "Decision Tree   [0.7777777777777778, 0.0, 0.0, 0.0, 0.0]   \n",
       "Random Forrest  [0.7777777777777778, 0.0, 0.0, 0.0, 0.0]   \n",
       "LightGBM        [0.8032786885245902, 1.0, 0.0, 0.0, 0.0]   \n",
       "\n",
       "                                                   Recall  \n",
       "Model                                                      \n",
       "SVM                             [1.0, 0.0, 0.0, 0.0, 0.0]  \n",
       "KNN                             [1.0, 0.0, 0.0, 0.0, 0.0]  \n",
       "Decision Tree    [0.8571428571428571, 0.0, 0.0, 0.0, 0.0]  \n",
       "Random Forrest                  [1.0, 0.0, 0.0, 0.0, 0.0]  \n",
       "LightGBM        [1.0, 0.16666666666666666, 0.0, 0.0, 0.0]  "
      ]
     },
     "execution_count": 62,
     "metadata": {},
     "output_type": "execute_result"
    }
   ],
   "source": [
    "result1 = pd.DataFrame(np.array(list(result.values()))[:,:-1],    # make a dataframe out of the metrics from result dictionary \n",
    "                       columns= ['Train Accuracy', 'Test Accuracy', 'Precision', 'Recall'],\n",
    "                      index= result.keys())   # use the model names as index\n",
    "\n",
    "result1.index.name = 'Model'   # name the index of the result1 dataframe as 'Model'\n",
    "\n",
    "result1 "
   ]
  },
  {
   "cell_type": "code",
   "execution_count": 64,
   "metadata": {
    "id": "0n7dTBUIjfwR"
   },
   "outputs": [],
   "source": [
    "import pickle\n",
    "filename = 'AccidentClassifier'\n",
    "pickle.dump(rfcl, open(filename, 'wb'))"
   ]
  },
  {
   "cell_type": "code",
   "execution_count": null,
   "metadata": {
    "id": "Mm5CMyC6jfts"
   },
   "outputs": [],
   "source": []
  },
  {
   "cell_type": "code",
   "execution_count": 64,
   "metadata": {
    "id": "GQE_0RA8jff5"
   },
   "outputs": [],
   "source": []
  }
 ],
 "metadata": {
  "colab": {
   "collapsed_sections": [],
   "name": "Capstone - Accident NLP Chatbot - Mohnish.ipynb",
   "provenance": []
  },
  "kernelspec": {
   "display_name": "Python 3",
   "language": "python",
   "name": "python3"
  },
  "language_info": {
   "codemirror_mode": {
    "name": "ipython",
    "version": 3
   },
   "file_extension": ".py",
   "mimetype": "text/x-python",
   "name": "python",
   "nbconvert_exporter": "python",
   "pygments_lexer": "ipython3",
   "version": "3.7.4"
  }
 },
 "nbformat": 4,
 "nbformat_minor": 1
}
